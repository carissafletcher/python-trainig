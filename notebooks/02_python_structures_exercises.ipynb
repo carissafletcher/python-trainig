{
 "cells": [
  {
   "cell_type": "markdown",
   "metadata": {},
   "source": [
    "# Exercises module 2 - structuring code\n",
    "----------------------------------------------------------\n",
    "\n",
    "## Exercise 2.1\n",
    "\n",
    "Write a function that takes as argument a number, and returns it divided by 2 if it is even, and unchanged if it is odd.\n",
    "\n",
    "**Hints:**\n",
    "* Remember the modulo operator,`%`, which returns the remainder of an integer division.\n",
    "* Run the cell below to see the outcome of using `% 2` on even and odd numbers."
   ]
  },
  {
   "cell_type": "code",
   "execution_count": null,
   "metadata": {},
   "outputs": [],
   "source": [
    "# Hint showing the usage of the % operator:\n",
    "print(\"7 % 2 ->\", 7 % 2)\n",
    "print(\"10 % 2 ->\", 10 % 2)"
   ]
  },
  {
   "cell_type": "code",
   "execution_count": null,
   "metadata": {},
   "outputs": [],
   "source": []
  },
  {
   "cell_type": "markdown",
   "metadata": {},
   "source": [
    "<br>\n",
    "\n",
    "### Solution:\n",
    "Uncomment and run the cell below to show the solution."
   ]
  },
  {
   "cell_type": "code",
   "execution_count": null,
   "metadata": {},
   "outputs": [],
   "source": [
    "# %load solutions/solution_21.py"
   ]
  },
  {
   "cell_type": "markdown",
   "metadata": {},
   "source": [
    "<br>\n",
    "\n",
    "## Exercise 2.2\n",
    "Write a function that returns the <a href=\"https://en.wikipedia.org/wiki/Complementarity_(molecular_biology)\">reverse complement</a> of a string containing a DNA sequence.\n",
    "\n",
    "The reverse complement is the inversed sequence (i.e. end to start), where each nucleotide is replaced by its complement.  \n",
    "Complementary nucleotides are `A` and `T`, and `G` and `C`.\n",
    "\n",
    "Here are some examples:\n",
    "* `AATGCC` -> `GGCATT`\n",
    "* `AAAGGC` -> `GCCTTT`\n",
    "* `AAATTT` -> `AAATTT`\n",
    "\n",
    "Test your function with the sequence `ATAGAGCGATCGATCCCTAGCTA`, compare your results with what you can get using <a href=\"http://arep.med.harvard.edu/labgc/adnan/projects/Utilities/revcomp.html\">this online tool</a>."
   ]
  },
  {
   "cell_type": "code",
   "execution_count": null,
   "metadata": {},
   "outputs": [],
   "source": []
  },
  {
   "cell_type": "markdown",
   "metadata": {},
   "source": [
    "<br>\n",
    "\n",
    "### Solution:\n",
    "Uncomment and run the cell below to show the solution."
   ]
  },
  {
   "cell_type": "code",
   "execution_count": null,
   "metadata": {},
   "outputs": [],
   "source": [
    "# %load solutions/solution_22.py"
   ]
  },
  {
   "cell_type": "markdown",
   "metadata": {},
   "source": [
    "<br>\n",
    "\n",
    "## Exercise 2.3\n",
    "Write a function that accepts a DNA sequence as an argument and returns its percentage of [%GC content](https://en.wikipedia.org/wiki/GC-content).\n",
    "The \"GC content\" of a DNA sequence is the fraction of nucleotides that are either \"G\" or \"C\" in the sequence.\n",
    "Your function should compute this fraction, and express it as a percentage (between 0 and 100).\n",
    "\n",
    "To give you some examples, here are some test sequences and their percentage of GC content:\n",
    "```python\n",
    "test_sequences = {\n",
    "    \"AAAATTTT\": 0,\n",
    "    \"AATTGGCC\": 50,\n",
    "    \"AATTAAAC\": 12.5,\n",
    "    \"GGGGGGGC\": 100\n",
    "}\n",
    "```\n",
    "\n",
    "**If you have time:** a small additional task you can do if you have time is to write a loop that goes\n",
    "through all sequences in the `test_sequences` dictionary, applies your function to them, and checks that the\n",
    "return value of your function matches the expected values given in the dictionary."
   ]
  },
  {
   "cell_type": "code",
   "execution_count": null,
   "metadata": {},
   "outputs": [],
   "source": [
    "# Example sequences you can use when developping your function.\n",
    "s1 = 'AAAA'                     # GC content is 0 %\n",
    "s2 = 'AACG'                     # GC content is 50 %\n",
    "s3 = 'GCGC'                     # GC content is 100 %\n",
    "s4 = \"ATAGAGCGATCGATCCCTAGCTA\"  # GC content is 47.82608695652174 %"
   ]
  },
  {
   "cell_type": "code",
   "execution_count": null,
   "metadata": {},
   "outputs": [],
   "source": []
  },
  {
   "cell_type": "markdown",
   "metadata": {},
   "source": [
    "<br>\n",
    "\n",
    "### Solution:\n",
    "Uncomment and run the cell below to show the solution."
   ]
  },
  {
   "cell_type": "code",
   "execution_count": null,
   "metadata": {},
   "outputs": [],
   "source": [
    "# %load solutions/solution_23.py"
   ]
  },
  {
   "cell_type": "markdown",
   "metadata": {},
   "source": [
    "<br>\n",
    "\n",
    "## Exercise 2.4\n",
    "Consider the following quote from the Monty Python:\n",
    "\n",
    "> `\"Brave Sir Robin ran away. Bravely ran away away. When danger reared it's ugly head, he bravely turned his tail and fled. Brave Sir Robin turned about and gallantly he chickened out...\"`\n",
    "\n",
    "Build a dictionnary whose keys are characters, and whose values correspond to the number of times a character is present in the quote.\n",
    "\n",
    "> **Hint**: start with a smaller string than the full quote if you want, like `\"rawr!\"`\n",
    "\n",
    "**If you have time:**\n",
    "* Modify your code so that the dictonary only contains letters (not any other character),\n",
    "  and that no distinction is made between upper and lower letters.\n",
    "* **Hint:** look at the `isalpha()` and `lower()` methods of strings."
   ]
  },
  {
   "cell_type": "code",
   "execution_count": null,
   "metadata": {},
   "outputs": [],
   "source": [
    "quote = (\n",
    "    \"Brave Sir Robin ran away. Bravely ran away away. \"\n",
    "    \"When danger reared it's ugly head, he bravely turned his tail and fled. \"\n",
    "    \"Brave Sir Robin turned about and gallantly he chickened out...\"\n",
    ")"
   ]
  },
  {
   "cell_type": "code",
   "execution_count": null,
   "metadata": {},
   "outputs": [],
   "source": []
  },
  {
   "cell_type": "markdown",
   "metadata": {},
   "source": [
    "<br>\n",
    "\n",
    "### Solution:\n",
    "Uncomment and run the cell below to show the solution."
   ]
  },
  {
   "cell_type": "code",
   "execution_count": null,
   "metadata": {},
   "outputs": [],
   "source": [
    "# %load solutions/solution_24.py"
   ]
  },
  {
   "cell_type": "markdown",
   "metadata": {},
   "source": [
    "<br>\n",
    "<br>\n",
    "\n",
    "# Additional exercises\n",
    "--------------------------------\n",
    "\n",
    "## Additional exercise 2.5\n",
    "\n",
    "A little bit of a puzzle:\n",
    "```python\n",
    "def mysterious_function(n):\n",
    "    if n <= 1:\n",
    "        return 1\n",
    "    return n * mysterious_function(n - 1)\n",
    "```\n",
    "\n",
    "<br>\n",
    "\n",
    "1. What does the `mysterious_function` do?\n",
    "2. Write a function that gives the same result, but using a `for` loop."
   ]
  },
  {
   "cell_type": "code",
   "execution_count": null,
   "metadata": {},
   "outputs": [],
   "source": []
  },
  {
   "cell_type": "markdown",
   "metadata": {},
   "source": [
    "<br>\n",
    "\n",
    "### Solution:\n",
    "Uncomment and run the cell below to show the solution."
   ]
  },
  {
   "cell_type": "code",
   "execution_count": null,
   "metadata": {},
   "outputs": [],
   "source": [
    "# %load solutions/solution_25.py"
   ]
  },
  {
   "cell_type": "markdown",
   "metadata": {},
   "source": [
    "<br>\n",
    "\n",
    "## Addtional exercise 2.6\n",
    "\n",
    "The <a href=\"https://en.wikipedia.org/wiki/Collatz_conjecture\">Collatz conjecture</a> describes the following procedure:\n",
    "* Start with any positive integer `n`. \n",
    "* Then each term is obtained from the previous term as follows:\n",
    "   * If the previous term is even, the next term is half of the previous term.\n",
    "   * If the previous term is odd, the next term is 3 times the previous term plus 1. \n",
    "\n",
    "The conjecture is that no matter the value of `n`, the sequence will always reach 1.\n",
    "1. Write a function that takes an integer `n` as argument and returns the number of steps\n",
    "   it took to reach `1` following the described procedure.\n",
    "\n",
    "> You can test your function by checking that `13` leads to the following sequence of size 10:\n",
    ">\n",
    ">   13 -> 40 -> 20 -> 10 -> 5 -> 16 -> 8 -> 4 -> 2 -> 1\n",
    "\n",
    "2. How would you account for a case where the conjecture is false (i.e. the sequence never reaches 1)?\n"
   ]
  },
  {
   "cell_type": "code",
   "execution_count": null,
   "metadata": {},
   "outputs": [],
   "source": []
  },
  {
   "cell_type": "markdown",
   "metadata": {},
   "source": [
    "<br>\n",
    "\n",
    "### Solution:\n",
    "Uncomment and run the cell below to show the solution."
   ]
  },
  {
   "cell_type": "code",
   "execution_count": null,
   "metadata": {},
   "outputs": [],
   "source": [
    "# %load solutions/solution_26.py"
   ]
  },
  {
   "cell_type": "markdown",
   "metadata": {},
   "source": [
    "<br>\n",
    "\n",
    "## Additional exercise 2.7\n",
    "\n",
    "Write a function that takes a string of mixed letters and digits, and returns a list of the words (groups of letters) and numbers (group of digits) of the string.  \n",
    "For instance, the string `\"Nobody0expects42the2048Spanish1492Inquisition!\"`  \n",
    "should give `[ \"Nobody\" , 0 , \"expects\" , 42 , \"the\" , 2048 , \"Spanish\" , 1492 , \"Inquisition!\" ]`\n",
    "\n",
    "> This exercise can be a tad harder than what it looks like. Don't despair and take your time; you can make it !\n",
    "\n",
    "**Hint:** you can make use of the string method `isdigit()` to determine whether a character is a number or not."
   ]
  },
  {
   "cell_type": "code",
   "execution_count": null,
   "metadata": {},
   "outputs": [],
   "source": []
  },
  {
   "cell_type": "markdown",
   "metadata": {},
   "source": [
    "<br>\n",
    "\n",
    "### Solution:\n",
    "Uncomment and run the cell below to show the solution."
   ]
  },
  {
   "cell_type": "code",
   "execution_count": null,
   "metadata": {},
   "outputs": [],
   "source": [
    "# %load solutions/solution_27.py"
   ]
  }
 ],
 "metadata": {
  "kernelspec": {
   "display_name": "Python 3 (ipykernel)",
   "language": "python",
   "name": "python3"
  },
  "language_info": {
   "codemirror_mode": {
    "name": "ipython",
    "version": 3
   },
   "file_extension": ".py",
   "mimetype": "text/x-python",
   "name": "python",
   "nbconvert_exporter": "python",
   "pygments_lexer": "ipython3",
   "version": "3.8.10"
  }
 },
 "nbformat": 4,
 "nbformat_minor": 4
}
