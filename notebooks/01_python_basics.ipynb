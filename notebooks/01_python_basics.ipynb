{
 "cells": [
  {
   "cell_type": "markdown",
   "metadata": {},
   "source": [
    "<br>\n",
    "\n",
    "# Module 1 - Python basics <a id='0'></a>\n",
    "--------------------------"
   ]
  },
  {
   "cell_type": "markdown",
   "metadata": {},
   "source": [
    "### Table of Content <a id='toc'></a>\n",
    "\n",
    "[**Python basics**](#0)  \n",
    "&nbsp;&nbsp;&nbsp;&nbsp;[Variables](#1)  \n",
    "&nbsp;&nbsp;&nbsp;&nbsp;[Code indentation - the importance of white spaces in Python](#2)  \n",
    "&nbsp;&nbsp;&nbsp;&nbsp;[Functions](#3)  \n",
    "&nbsp;&nbsp;&nbsp;&nbsp;&nbsp;&nbsp;&nbsp;&nbsp;[The help function - your best friend in Python](#4)  \n",
    "&nbsp;&nbsp;&nbsp;&nbsp;[Reading and understanding errors](#5)  \n",
    "&nbsp;&nbsp;&nbsp;&nbsp;[Micro Exercise 1](#6)  \n",
    "\n",
    "[**Object types: simple types**](#7)  \n",
    "&nbsp;&nbsp;&nbsp;&nbsp;[Type conversion](#8)  \n",
    "&nbsp;&nbsp;&nbsp;&nbsp;[Micro Exercise 2](#9)  \n",
    "&nbsp;&nbsp;&nbsp;&nbsp;[Operators](#10)  \n",
    "&nbsp;&nbsp;&nbsp;&nbsp;[Arithmetic operators](#11)  \n",
    "&nbsp;&nbsp;&nbsp;&nbsp;[Comparison operators](#12)  \n",
    "&nbsp;&nbsp;&nbsp;&nbsp;[Micro Exercise 3](#13)\n",
    "\n",
    "[**Object types: container types**](#14)  \n",
    "&nbsp;&nbsp;&nbsp;&nbsp;[**Strings**](#15)  \n",
    "&nbsp;&nbsp;&nbsp;&nbsp;&nbsp;&nbsp;&nbsp;&nbsp;[Length of a string](#16)  \n",
    "&nbsp;&nbsp;&nbsp;&nbsp;&nbsp;&nbsp;&nbsp;&nbsp;[String concatenation](#17)  \n",
    "&nbsp;&nbsp;&nbsp;&nbsp;&nbsp;&nbsp;&nbsp;&nbsp;[String slicing](#18)  \n",
    "&nbsp;&nbsp;&nbsp;&nbsp;&nbsp;&nbsp;&nbsp;&nbsp;[Micro exercise 4](#19)  \n",
    "\n",
    "&nbsp;&nbsp;&nbsp;&nbsp;[**Lists and tuples**](#20)  \n",
    "&nbsp;&nbsp;&nbsp;&nbsp;&nbsp;&nbsp;&nbsp;&nbsp;[List and tuple slicing](#21)  \n",
    "&nbsp;&nbsp;&nbsp;&nbsp;&nbsp;&nbsp;&nbsp;&nbsp;[Mutability - an important difference between lists and tuples](#22)  \n",
    "&nbsp;&nbsp;&nbsp;&nbsp;&nbsp;&nbsp;&nbsp;&nbsp;[Manipulating lists: adding and removing elements](#23)  \n",
    "&nbsp;&nbsp;&nbsp;&nbsp;&nbsp;&nbsp;&nbsp;&nbsp;[From list to string, and back again ...](#24)  \n",
    "&nbsp;&nbsp;&nbsp;&nbsp;&nbsp;&nbsp;&nbsp;&nbsp;[Micro Exercise 5](#25)\n",
    "\n",
    "&nbsp;&nbsp;&nbsp;&nbsp;[**Dictionaries**](#26)\n",
    "\n",
    "[**Exercises 1.1 - 1.4**](#27)\n",
    "\n",
    "[**Additional Theory**](#28)  \n",
    "&nbsp;&nbsp;&nbsp;&nbsp;[Mutability of objects in Python](#29)  \n",
    "&nbsp;&nbsp;&nbsp;&nbsp;[A solution: explicit deep copy](#30)  "
   ]
  },
  {
   "cell_type": "markdown",
   "metadata": {},
   "source": [
    "<br>\n",
    "\n",
    "## Python documentation and learning resources\n",
    "\n",
    "* **Official [python documentation](https://www.python.org/doc/)**: this is the official python documentation, as well as some tutorials.\n",
    "* **[Alternative documentation](https://www.w3schools.com/python/python_reference.asp)**: reference for on built-in functions and types (sometimes easier or more complete than the `help()` function). \n"
   ]
  },
  {
   "cell_type": "markdown",
   "metadata": {},
   "source": [
    "<br>\n",
    "<br>\n",
    "<br>\n",
    "\n",
    "## Python basics\n",
    "---------------------\n",
    "\n",
    "### Variables <a id='1'></a>\n",
    "In python, as in many programming language, **objects are stored in variables**.\n",
    "* A value is **assigned** to a variable using the **`=`** sign. \n",
    "* **Important:** unlike in mathematics, the `=` sign in python is directional: the variable name must\n",
    "  always be on the left of the `=`, and the value to assign to the variable on the right.  \n",
    "\n",
    "  Example:\n",
    "  ```python\n",
    "  a = 23    # is a valid assignment.\n",
    "  8 = b     # is NOT a valid assignment.\n",
    "  ```\n",
    "\n",
    "<br>\n",
    "\n",
    "In python, variables names must adhere to these restrictions:\n",
    "* Variable names must be **composed solely of uppercase and lowercase letters** (`A-Z`, `a-z`), \n",
    "  **digits** (`0-9`), and the **underscore** character `_`.\n",
    "* The **first character** of a variable name **cannot be a digit**.\n",
    "* By convention, **variable names starting with a single or double underscore `_`/`__` are reserved \n",
    "  for \"special\" variables** (class private attributes, \"magic\" variables).\n",
    "* Examples:\n",
    "    * `var_1` is a valid variable name.\n",
    "    * `1_var` is **not** a valid name (starts with a digit)\n",
    "    * `var-1` is **not** a valid name (contains a the non-authorized character `-`)\n",
    "    * `__var_1__` is valid, but **should not be used**, whith the exception of very specific situations.\n",
    "\n",
    "<br>\n",
    "\n",
    "**Important tips**:\n",
    "* Using **explicit variable names makes your code easier to read** for others, and possibly yourself \n",
    "  in a not-so-distant future.  \n",
    "  E.g. `input_file` is better than `iptf`, even if it is a bit longer.\n",
    "* **Never use python built-in names as variable names**, otherwise you will overwrite this object in the \n",
    "  namespace.  \n",
    "  E.g., don't call a variable `str`, `int` or `list` (this can be painful to debug)."
   ]
  },
  {
   "cell_type": "code",
   "execution_count": null,
   "metadata": {
    "scrolled": true
   },
   "outputs": [],
   "source": [
    "my_variable = 35        # Assign the value 35 to variable \"myVariable\".\n",
    "var_a = \"hello python\"  # Assign the value \"hello python\" to variable \"var_a\".\n",
    "var_b = var_a           # Assign the value of \"var_a\" to \"var_b\".\n",
    "\n",
    "# By the way, text located after a \"#\" character - just like this line - are \"comments\".\n",
    "# Comments is text that will not be executed, but is useful for code documentation.\n",
    "print(my_variable)\n",
    "print(var_a)\n",
    "print(var_b)"
   ]
  },
  {
   "cell_type": "markdown",
   "metadata": {},
   "source": [
    "<br>\n",
    "\n",
    "[Back to ToC](#toc)\n",
    "\n",
    "### Code indentation - the importance of white spaces in Python <a id='2'></a>\n",
    "\n",
    "**Indentation** is the number of **white spaces before the first text element** (on a given line).\n",
    "\n",
    "```python\n",
    "    |var_1 = 2\n",
    "    | var_1 = 2\n",
    "     ^\n",
    "    # The line above is indented by 1 space.\n",
    "    \n",
    "    |  var_1 = 2\n",
    "     ^^\n",
    "    # The line above is indented by 2 space.\n",
    "```\n",
    "\n",
    "* Unlike many other languges, **indentation has a very important meaning in python**: it is used \n",
    "  to define a so-called **\"code block\"** (more on that later in the course).\n",
    "* Using proper **indentation is an integral part of python** - unlike most other languages where it's\n",
    "  just good practice.\n",
    "* When outside of a \"code block\", there should be no indentation on the line.\n",
    "* A wrong level of indentation will trigger an `IndentationError`.\n",
    "* Comments can have any level indentation."
   ]
  },
  {
   "cell_type": "code",
   "execution_count": null,
   "metadata": {},
   "outputs": [],
   "source": [
    "var_1 = \"abc\"    # No indentation -> valid syntax.\n",
    " var_1 = \"abc\"   # unexpected indentation (i.e. outside of a code block) -> IndentationError\n",
    " \n",
    "     # Comment lines, however, can be indented as you wish."
   ]
  },
  {
   "cell_type": "markdown",
   "metadata": {},
   "source": [
    "When assigning a variable, white spaces after the variable name do not matter. However the [Python style convention](https://www.python.org/dev/peps/pep-0008/#whitespace-in-expressions-and-statements) is to have **exactly 1 space** on each side of the `=` operator when assigning a variable.\n"
   ]
  },
  {
   "cell_type": "code",
   "execution_count": null,
   "metadata": {},
   "outputs": [],
   "source": [
    "var_1 = \"abc\"                   # Valid syntax and good style.\n",
    "var_1           =        \"abc\"  # Valid syntax but bad style -> please avoid.\n",
    "print(var_1)"
   ]
  },
  {
   "cell_type": "markdown",
   "metadata": {},
   "source": [
    "<br>\n",
    "\n",
    "[Back to ToC](#toc)\n",
    "\n",
    "### Functions <a id='3'></a>\n",
    "Another very important concept in Python - as in most programming language - are **functions**:\n",
    "* Functions are **re-usable blocks of code** that have been given a name and are designed to perform an action.\n",
    "  How to define your own functions will be covered in Module 2 of this course.\n",
    "* Functions can be written to perform anything, from the simplest task to the most complex.\n",
    "* To **call a function**, one uses its name followed by parentheses `()`, which can contain an eventual set of \n",
    "  **arguments**.\n",
    "* Values passed to functions are called **arguments**, they can be **mandatory** (positional arguments)\n",
    "  or **optional** (keyword arguments).\n",
    "  \n",
    "**Example:** to call the \"print\" function, we type `print()`.\n",
    "  "
   ]
  },
  {
   "cell_type": "code",
   "execution_count": null,
   "metadata": {},
   "outputs": [],
   "source": [
    "print(\"This\", \"will\", \"be\", \"printed\")\n",
    "print(\"This\", \"will\", \"be\", \"printed\", sep=\"--\")"
   ]
  },
  {
   "cell_type": "markdown",
   "metadata": {},
   "source": [
    "<br>\n",
    "\n",
    "#### Positional vs. keyword arguments\n",
    "\n",
    "**Arguments** are the variables/values that the function uses as input to do its job. \n",
    "\n",
    "Example of the `print()` function:\n",
    "\n",
    "    print(value, ..., sep=' ', end='\\n', file=sys.stdout, flush=False)\n",
    "\n",
    "> Note: the above line (function name + arguments) is often reffered to as the function's **signature**.\n",
    "\n",
    "<br>\n",
    "\n",
    "In Python, we differentiate between two types of arguments:\n",
    "  * **Positional** arguments:\n",
    "      * **Are mandatory** - the function will not execute without them.\n",
    "      * Their position in the call to the function is important.  \n",
    "        E.g. `divmod(11, 5)` - [which returns the quotient and remainder of a \n",
    "        division](https://docs.python.org/3/library/functions.html#divmod) - \n",
    "        does not give the same result as `divmod(5, 11)`.\n",
    "\n",
    "<br>\n",
    "\n",
    "  * **Keyword** arguments:\n",
    "      * **Are optional** and have a **default value**.\n",
    "      * Are passed to the function with the syntax `function(argument_name=value)`.\n",
    "      * Keyword arguments **can be passed in any order**... as long as they are passed\n",
    "        **after positional arguments**."
   ]
  },
  {
   "cell_type": "code",
   "execution_count": null,
   "metadata": {},
   "outputs": [],
   "source": [
    "print(\"This\", \"will\", \"be\", \"printed\", sep=\"__\", end=\"--\\n\")\n",
    "print(\"This\", \"will\", \"be\", \"printed\", end=\"--\\n\", sep=\"__\")"
   ]
  },
  {
   "cell_type": "markdown",
   "metadata": {},
   "source": [
    "<br>\n",
    "\n",
    "**Positonal** arguments must always be passed **before keyword arguments**. Otherwise, a **SyntaxError** is raised:"
   ]
  },
  {
   "cell_type": "code",
   "execution_count": null,
   "metadata": {},
   "outputs": [],
   "source": [
    "print(sep=\"--\", \"This\", \"will\", \"be\", \"printed\")   #  -> raises a SyntaxError"
   ]
  },
  {
   "cell_type": "markdown",
   "metadata": {},
   "source": [
    "Depending on the function, keyword arguments can also be passed without their name being specified - in which case they must be passed in the correct order:"
   ]
  },
  {
   "cell_type": "code",
   "execution_count": null,
   "metadata": {},
   "outputs": [],
   "source": [
    "# In the print function, all keyword arguments must be passed with their name.\n",
    "print(\"This\", \"will\", \"be\", \"printed\", sep=\"--\")\n",
    "print(\"This\", \"will\", \"be\", \"printed\", \"--\")"
   ]
  },
  {
   "cell_type": "markdown",
   "metadata": {},
   "source": [
    "<br>\n",
    "\n",
    "[Back to ToC](#toc)\n",
    "\n",
    "#### The help function - your best friend in Python <a id='4'></a>\n",
    "In python, almost any object or function is extensively documented: what it is, what it does, how to use it, ...  \n",
    "This information is accessed using the `help()` function, which takes as argument the object we want to get help with.\n",
    "\n",
    "Let's try to look up the help page of the `print()` function that we encountered moments ago:"
   ]
  },
  {
   "cell_type": "code",
   "execution_count": null,
   "metadata": {},
   "outputs": [],
   "source": [
    "help(print)"
   ]
  },
  {
   "cell_type": "markdown",
   "metadata": {},
   "source": [
    "**It tells us that:**\n",
    " * `print` is a function (more specifically a \"built-in\" function).\n",
    " * It \"Prints the values to a stream, or to sys.stdout by default.\". So the function prints the \n",
    "   values that are passed to it to the console (or possibly to a file).\n",
    " * Its (positional) arguments are the things that will be printed.\n",
    " * It has 4 optional arguments that refine its use (e.g. `sep` and `end`).\n",
    "\n",
    "Let's try to apply our new knowledge of the `print` function :"
   ]
  },
  {
   "cell_type": "code",
   "execution_count": null,
   "metadata": {},
   "outputs": [],
   "source": [
    "print('test')                # Simple usage.\n",
    "print('test' , 42)           # We can make it print several values. by default, they are separated by 1 space.\n",
    "print('test' , 42 , sep='/') # The \"sep\" argument can be used to change the separator between values.\n",
    "print('first line')\n",
    "print('second line')\n",
    "print('first line', end='')  # The 'end' argument can be used to modify the character printed at the end of\n",
    "print('second line')         # each line. It defaults to \"\\n\", the new line character."
   ]
  },
  {
   "cell_type": "markdown",
   "metadata": {},
   "source": [
    "**Don't hesitate to use the `help` function on any object or function to understand how they work.**"
   ]
  },
  {
   "cell_type": "markdown",
   "metadata": {},
   "source": [
    "<br>\n",
    "\n",
    "[Back to ToC](#toc)\n",
    "\n",
    "### Reading and understanding errors <a id='5'></a>\n",
    "\n",
    "Unless you are a perfect human being, your code will contain errors at some point.  \n",
    "Errors ~~can sometimes be~~ are frustrating, but they are unavoidable, and the best way to correct them is to actually read and try to understand them.\n",
    "\n",
    "Here is an error example:"
   ]
  },
  {
   "cell_type": "code",
   "execution_count": null,
   "metadata": {},
   "outputs": [],
   "source": [
    "var_a = 42\n",
    "var_b = var_a + 3\n",
    "print(var_c)"
   ]
  },
  {
   "cell_type": "markdown",
   "metadata": {},
   "source": [
    "The python error message gives us a number of useful info:\n",
    "* The first line indicates the **type** of the error. In our example we got a `NameError`, meaning that \n",
    "  a name (of an object) has not been found, which means that there is no variable/function/class with said\n",
    "  name currently defined. If you want to know more about a certain error type, you can use the help \n",
    "  function on it: `help(NameError)`.\n",
    "\n",
    "* The following lines indicate **where the error occured**, which is very useful when there are hundreds of \n",
    "  lines in your code. Here the error occured on line `3` (as indicated by the arrow `----> 3`).\n",
    "\n",
    "* Finally, we have the **error message**: `NameError: name 'var_c' is not defined`. This points out\n",
    "  that we tried to print the variable `var_c` when that variable does not exist (i.e., that name\n",
    "  is not defined).\n",
    "\n",
    "> <span style=\"color:blue\">Arguably, being able to **read and understand errors** and being able to **read the help** accounts for ~50% of \"coding skills\"...</span>.\n",
    "\n"
   ]
  },
  {
   "cell_type": "markdown",
   "metadata": {},
   "source": [
    "<br>\n",
    "\n",
    "<div class=\"alert alert-block alert-success\">\n",
    "    \n",
    "### Micro Exercise 1 <a id='6'></a>\n",
    "* Copy/paste the line below in a code cell and execute it.\n",
    "```python\n",
    "a = 10\n",
    "42 + \"a\"\n",
    "```\n",
    "\n",
    "* Look at the error given by the following code. Try to understand it and modify the code accordingly.\n",
    "\n",
    "<div>\n"
   ]
  },
  {
   "cell_type": "code",
   "execution_count": null,
   "metadata": {},
   "outputs": [],
   "source": []
  },
  {
   "cell_type": "markdown",
   "metadata": {},
   "source": [
    "<br>\n",
    "<br>\n",
    "\n",
    "[Back to ToC](#toc)\n",
    "\n",
    "## Object types: simple types <a id='7'></a>\n",
    "\n",
    "Everything in python is an object, and Python divides objects into several categories called **types**.\n",
    "\n",
    "There exist plenty of types (it is even common to define your own new type), but there a few very common ones - known as **built-in** types - that you ought to know.\n",
    "* `bool`: boolean/logical values, either `True` or `False`, like 0 or 1.\n",
    "* `int` : integer number.\n",
    "* `float`: floating point number (numbers with a decimal fraction).\n",
    "\n",
    "To know the type of an object, we can make use of the `type()` function.  \n",
    "\n",
    "A few comments about types in python:\n",
    "* Python is (by default\\*\\*) a **dynamically typed** language (as opposed to **statically typed** \n",
    "  languages such as C or C++ e.g.). This means that variables are declared without a specific type, \n",
    "  and the type is assigned based on what object is assigned to the variable.  \n",
    "  This has its advantages (easier and faster to write code) and downsides (e.g. type error bugs can \n",
    "  remain hidden for a long time until they are triggered by some unusual input data).\n",
    "  \n",
    "* A corollary is that variables in Python are not restricted to a single type and can be reassigned \n",
    "  another type of value at any time.\n",
    "  \n",
    " \\*\\* Starting with python 3.6, it is possible (as an option) to define static types for variables."
   ]
  },
  {
   "cell_type": "code",
   "execution_count": null,
   "metadata": {},
   "outputs": [],
   "source": [
    "print(type(True))\n",
    "print(type(11))\n",
    "print(type(\"hello world\"))\n",
    "print(type(print))"
   ]
  },
  {
   "cell_type": "code",
   "execution_count": null,
   "metadata": {},
   "outputs": [],
   "source": [
    "# In this example we successively assign different values and types to the variable \"a\".\n",
    "# boolean\n",
    "a = True\n",
    "print(\"type of a is:\", type(a))\n",
    "\n",
    "# float\n",
    "a = 4.2\n",
    "print(\"type of a is:\", type(a))\n",
    "\n",
    "# integer\n",
    "a = 42\n",
    "print(\"type of a is:\", type(a))\n",
    "print(\"type of 42 is:\", type(42))"
   ]
  },
  {
   "cell_type": "markdown",
   "metadata": {},
   "source": [
    "<br>\n",
    "\n",
    "[Back to ToC](#toc)\n",
    "\n",
    "### Type conversion <a id='8'></a>\n",
    "\n",
    "Converting from one type to another is (often) fairly easy: juste use the type name as a function.\n",
    "\n",
    "**Example:** convert an integer to a float:"
   ]
  },
  {
   "cell_type": "code",
   "execution_count": null,
   "metadata": {},
   "outputs": [],
   "source": [
    "a = 42\n",
    "print(\"type of 'a' before conversion:\", type(a), \", a = \", a)\n",
    "a = float(a)\n",
    "print(\"type of 'a' after conversion:\", type(a), \", a = \", a)"
   ]
  },
  {
   "cell_type": "markdown",
   "metadata": {},
   "source": [
    "**Example:** convert to string"
   ]
  },
  {
   "cell_type": "code",
   "execution_count": null,
   "metadata": {},
   "outputs": [],
   "source": [
    "a = str(a)\n",
    "print(\"type of 'a' after conversion:\", type(a), \", a = \", a)\n",
    "\n",
    "# Converting to string is useful when concatenating a string and a number:\n",
    "#print(\"This will fail, \" + 2 + \" bad\")\n",
    "print(\"This will work \" + str(4) + \" sure\")"
   ]
  },
  {
   "cell_type": "markdown",
   "metadata": {},
   "source": [
    "<br>\n",
    "\n",
    "<div class=\"alert alert-block alert-success\">\n",
    "\n",
    "### Micro Exercise 2 <a id='9'></a>\n",
    "* Set `a = \"42\"`, then convert `a` back to an integer (`int`). Look up the `help` for integers.  \n",
    "* If you have time, try to now set `a = \"42.0\"` and do the type conversion. Does it still work? If not, how\n",
    "  can you fix the issue?\n",
    "\n",
    "<div>"
   ]
  },
  {
   "cell_type": "code",
   "execution_count": null,
   "metadata": {},
   "outputs": [],
   "source": []
  },
  {
   "cell_type": "markdown",
   "metadata": {},
   "source": [
    "<br>\n",
    "<br>\n",
    "\n",
    "[Back to ToC](#toc)\n",
    "\n",
    "## Operators <a id='10'></a>\n",
    "Now that we have variables containing objects of a certain **type**, we can begin to manipulate them using **operators**.\n",
    "<br>\n",
    "\n",
    "### Arithmetic operators  <a id='11'></a>\n",
    "You know most of these already:"
   ]
  },
  {
   "cell_type": "code",
   "execution_count": null,
   "metadata": {
    "scrolled": true
   },
   "outputs": [],
   "source": [
    "print( 3 + 7 )         # + : addition\n",
    "print( 1.1 - 5 )       # - : substraction\n",
    "print( 5 * 2 )         # * : multiplication\n",
    "print( 5 / 2 )         # / : division\n",
    "print( 2 ** 4 )        # **: power\n",
    "print( 5 // 2 )        # //: integer division (only the integer part of the quotient is kept,\n",
    "                       #     the fractional part is discarted: 2.5 -> 2)\n",
    "print( 5 % 2 )         # % : modulus (remainder of the integer division: 5 % 2 -> 1)\n",
    "\n",
    "# Variables can be used there as well:\n",
    "x = 4\n",
    "y = 16 * x**2 - 2 * x + 0.5 \n",
    "print(y)"
   ]
  },
  {
   "cell_type": "markdown",
   "metadata": {},
   "source": [
    "**Tip:** when modifying the value of a variable, you can use the following **shortcut operators** (useful e.g. to increment the value of a variable in a loop):"
   ]
  },
  {
   "cell_type": "code",
   "execution_count": null,
   "metadata": {},
   "outputs": [],
   "source": [
    "a = 0\n",
    "print(\"The start value of 'a' is\", a)\n",
    "\n",
    "# Same as a = a + 3\n",
    "a += 3\n",
    "print(\"The value of 'a' is now:\", a)\n",
    "\n",
    "# Same as a = a - 1\n",
    "a -= 1                                 \n",
    "print(\"The value of 'a' is now:\", a)\n",
    "\n",
    "# Same as a = a * 3\n",
    "a *= 3\n",
    "print(\"The value of 'a' is now:\", a)\n",
    "\n",
    "# Same as a = a / 2\n",
    "a /= 2\n",
    "print(\"The value of 'a' is now:\", a)"
   ]
  },
  {
   "cell_type": "markdown",
   "metadata": {},
   "source": [
    "<br>\n",
    "\n",
    "[Back to ToC](#toc)\n",
    "\n",
    "### Comparison operators <a id='12'></a>\n",
    "\n",
    "These operators return a `bool` value (`True`  or `False`)."
   ]
  },
  {
   "cell_type": "code",
   "execution_count": null,
   "metadata": {},
   "outputs": [],
   "source": [
    "a = 5\n",
    "print(\"is a equal to 1?:\", a == 1)                  # == : equality\n",
    "print(\"is a different to 13.37?:\", a != 13.37)      # != : inequality\n",
    "print(\"is a greater than 5?:\", a > 5 )              # >  : larger than\n",
    "print(\"is a lower than 10?:\", a < 10 )              # <  : lower than\n",
    "print(\"is a above 5?:\", a >= 5 )                    # <= : lower or equal\n",
    "print(\"is a lower than 10?:\", a <= 10 )             # >= : larger or equal"
   ]
  },
  {
   "cell_type": "markdown",
   "metadata": {},
   "source": [
    "**Warning:** comparisons are type-sensitive, so the following expression evaluates to **False**:"
   ]
  },
  {
   "cell_type": "code",
   "execution_count": null,
   "metadata": {},
   "outputs": [],
   "source": [
    "a = 5\n",
    "print(\"is a equal to '5'?:\", a == \"5\")"
   ]
  },
  {
   "cell_type": "markdown",
   "metadata": {},
   "source": [
    "Boolean values (the result from a comparison) can be:\n",
    "* **combined** using `and` or `or`.\n",
    "* **inversed** using `not` (True becomes False and False becomes True)."
   ]
  },
  {
   "cell_type": "code",
   "execution_count": null,
   "metadata": {},
   "outputs": [],
   "source": [
    "a = 5\n",
    "print(\"'and' requires both elements to be True:\" , True and ( 1 + 1 != 2 ) )\n",
    "print(\"'or' requires at least element to be True:\" , ( a * 2 > 10 ) or ( a > 0 ) )\n",
    "print(\"'not' inverses a boolean value! This is simply\", not False)"
   ]
  },
  {
   "cell_type": "markdown",
   "metadata": {},
   "source": [
    "<br>\n",
    "\n",
    "<div class=\"alert alert-block alert-success\">\n",
    "\n",
    "### Micro Exercise 3 <a id='13'></a>\n",
    "* Compute the product of 348 and 157.2.\n",
    "* Use a comparison operator to check if the result is larger than 230 square (`230 ** 2`)\n",
    "\n",
    "<div>"
   ]
  },
  {
   "cell_type": "code",
   "execution_count": null,
   "metadata": {},
   "outputs": [],
   "source": []
  },
  {
   "cell_type": "markdown",
   "metadata": {},
   "source": [
    "<br>\n",
    "<br>\n",
    "\n",
    "[Back to ToC](#toc)\n",
    "\n",
    "## Object types: container types <a id='14'></a>\n",
    "\n",
    "These built-in types are object that contain other objects:\n",
    "* `str`: string - text.\n",
    "* `list`: **mutable** list of objects (mutable = can be modified afer it was created).\n",
    "* `tuple`: **immutable** list of objects (immutable = cannot be modified after it was created).\n",
    "* `dict`: dictionary associating 'key' to 'value'.\n",
    "\n",
    "Containers objects have a dedicated `[]` operator that lets user access one - or several - of the object they contain.  \n",
    "In addition, the number of objects a container has (its length) can be accessed using the **`len()`** function.\n",
    "\n",
    "**Important:** in python (unlike e.g. in R), **indexing is zero-based**. This means that the first element of a container type object is accessed with `object[0]`, and not `object[1]`."
   ]
  },
  {
   "cell_type": "markdown",
   "metadata": {},
   "source": [
    "## Strings <a id='15'></a>\n",
    "In python, the `string` type is a **sequences of characters** that can be used to represent text of any length.\n",
    "\n",
    "* Strings can be declared using either **single `'`** or **double `\"`** quotes. "
   ]
  },
  {
   "cell_type": "code",
   "execution_count": null,
   "metadata": {},
   "outputs": [],
   "source": [
    "gene_seq = \"ATGCGACTGATCGATCGATCGATCGATGATCGATCGATCGATGCTAGCTAC\"\n",
    "name = 'Sir Lancelot of Camelot'\n",
    "print(gene_seq)\n",
    "print(name)"
   ]
  },
  {
   "cell_type": "markdown",
   "metadata": {},
   "source": [
    "* **Triple quotes** can be used to define multi-line strings."
   ]
  },
  {
   "cell_type": "code",
   "execution_count": null,
   "metadata": {},
   "outputs": [],
   "source": [
    "long_string = \"\"\"Let me tell you something, my lad. \n",
    "When you’re walking home tonight and some great \n",
    "homicidal maniac comes after you with a bunch \n",
    "of loganberries, don’t come crying to me!\\n\"\"\"\n",
    "print(long_string)"
   ]
  },
  {
   "cell_type": "markdown",
   "metadata": {},
   "source": [
    "* **Accented and special characters** are possible in strings. E.g. **\"\\t\"** = tab, **\"\\n\"** = new line."
   ]
  },
  {
   "cell_type": "code",
   "execution_count": null,
   "metadata": {},
   "outputs": [],
   "source": [
    "my_quote = \"\"\"Gracieux : « aimez-vous à ce point les oiseaux\n",
    "que paternellement vous vous préoccupâtes\n",
    "de tendre ce perchoir à leurs petites pattes ? »\\n\"\"\"\n",
    "print(my_quote)\n",
    "\n",
    "# Example of inserting a tab/new line in a string:\n",
    "print('Hello\\tWorld')    # \\t : tabulation\n",
    "print('Hello\\nWorld\\n')  # \\n : newline"
   ]
  },
  {
   "cell_type": "markdown",
   "metadata": {},
   "source": [
    "* **Combining** single and double quotes."
   ]
  },
  {
   "cell_type": "code",
   "execution_count": null,
   "metadata": {},
   "outputs": [],
   "source": [
    "quote_in_quote_1 = \"Let me tell you 'something', my lad\"\n",
    "quote_in_quote_2 = 'Let me tell you \"something\", my lad'\n",
    "print(quote_in_quote_1)\n",
    "print(quote_in_quote_2)\n",
    "\n",
    "# Note: quotes can also be escaped, but it is a bit less readable than using different quote types:\n",
    "quote_in_quote_3 = \"Let me tell you \\\"something\\\", my lad\"\n",
    "print(quote_in_quote_3)"
   ]
  },
  {
   "cell_type": "markdown",
   "metadata": {},
   "source": [
    "<br>\n",
    "\n",
    "### Length of a string <a id='16'></a>\n",
    "The **`len()`** function can be used on a string to return its length:"
   ]
  },
  {
   "cell_type": "code",
   "execution_count": null,
   "metadata": {},
   "outputs": [],
   "source": [
    "name = 'Sir Lancelot of Camelot'\n",
    "print(\"The number of characters in the string '\", name, \"' is: \", len(name), sep='')"
   ]
  },
  {
   "cell_type": "markdown",
   "metadata": {},
   "source": [
    "<br>\n",
    "\n",
    "### String concatenation <a id='17'></a>\n",
    "* Strings can be concatenated with the **`+`** operator.\n",
    "* Srings can be \"multiplied\" (i.e., repeated) with the **`*`** operator."
   ]
  },
  {
   "cell_type": "code",
   "execution_count": null,
   "metadata": {},
   "outputs": [],
   "source": [
    "print(\"dead\" + \"-\" + \"parrot\") \n",
    "print(\"spam\" * 5)"
   ]
  },
  {
   "cell_type": "markdown",
   "metadata": {},
   "source": [
    "<br>\n",
    "\n",
    "### String slicing <a id='18'></a>\n",
    "\n",
    "Because strings are a type of sequence (a sequence of characters), the different characters of a string can be accessed using the **`[]` operator**, with the index of the desired element(s).  \n",
    "* Remember that in python, the index of the first element is `[0]`.\n",
    "* Negative indices will access characters starting from the end of the string. E.g. `[-1]` returns the\n",
    "  last character in the string."
   ]
  },
  {
   "cell_type": "code",
   "execution_count": null,
   "metadata": {},
   "outputs": [],
   "source": [
    "my_string = \"And now, something completely different.\"\n",
    "print(\"The first element of this string is:\", my_string[0] )  # 0 is the index of the 1st element of the string.\n",
    "print(\"The 5th element of this string is:\", my_string[4] )    # 5th element of the string.\n",
    "print(\"The last element of this string is:\", my_string[-1] )  # -1 is the index of the last element of the string."
   ]
  },
  {
   "cell_type": "markdown",
   "metadata": {},
   "source": [
    "<br>\n",
    "\n",
    "Indices can also be used to retrieve several elements at once: this is called a **slice operation** or **slicing**:\n",
    "* The general syntax of slicing is `[start index: end index (excluded): step]`\n",
    "* The end index position is **excluded from the slice**.\n",
    "* The **default step value is 1**. It can be omitted (and very often is).\n",
    "* If the start index is omitted, the slicing is implicitely done from the begining of the string. `string[:10]`\n",
    "* If the end index is omitted, the slicing is implicitely done until the end of the string. `string[10:]`"
   ]
  },
  {
   "cell_type": "code",
   "execution_count": null,
   "metadata": {},
   "outputs": [],
   "source": [
    "my_string = \"And now, something completely different.\"\n",
    "print(my_string)\n",
    "print(my_string[0:5])    # slice operation: get all elements from index 0 (included) to index 5 (excluded)\n",
    "print(my_string[:5])     # implicitely slices from the beginning of the string up to (but not included) index 5.\n",
    "print(my_string[5:])     # implicitely slices until the end of the string.\n",
    "print(my_string[5::2])   # keep every second letter, starting from index 5 to the end of the string.\n",
    "#print(my_string[::-1])   # goes through the string from end to start -> reverses the string !"
   ]
  },
  {
   "cell_type": "markdown",
   "metadata": {},
   "source": [
    "<br>\n",
    "\n",
    "<div class=\"alert alert-block alert-success\">\n",
    "\n",
    "### Micro Exercise 4 <a id='19'></a>\n",
    "* Create a string variable containing your name.\n",
    "* Extract the last 3 letters from it using slicing.\n",
    "\n",
    "<div>"
   ]
  },
  {
   "cell_type": "code",
   "execution_count": null,
   "metadata": {},
   "outputs": [],
   "source": []
  },
  {
   "cell_type": "markdown",
   "metadata": {},
   "source": [
    "<br>\n",
    "<br>\n",
    "\n",
    "[Back to ToC](#toc)\n",
    "\n",
    "## Lists and tuples <a id='20'></a>\n",
    "\n",
    "Lists and tuples are **sequence type** objects that can contain any type of elements (other objects).  \n",
    "* Lists are declared by surrounding a comma separated list of objects with `[]`.  \n",
    "* Tuples are declared similarly, but using `()`."
   ]
  },
  {
   "cell_type": "markdown",
   "metadata": {},
   "source": [
    "#### Create a list"
   ]
  },
  {
   "cell_type": "code",
   "execution_count": null,
   "metadata": {},
   "outputs": [],
   "source": [
    "my_list = [1, 2, \"spam\", \"eggs\", 5.2, [2, \"spam\"]]\n",
    "print(\"The content of my_list is:\", my_list)\n",
    "print(\"length of my list is:\", len(my_list))"
   ]
  },
  {
   "cell_type": "markdown",
   "metadata": {},
   "source": [
    "#### Create a tuple"
   ]
  },
  {
   "cell_type": "code",
   "execution_count": null,
   "metadata": {},
   "outputs": [],
   "source": [
    "tuple_1 = (\"spam\", )\n",
    "print(\"The content of the tuple is:\", tuple_1)\n",
    "print(\"The length of tuple is:\", len(tuple_1))\n",
    "#tuple_1 = (\"spam\")  # Warning: this does not create a tuple, it only assigns \"spam\" to tuple_1.\n",
    "#print(tuple_1)"
   ]
  },
  {
   "cell_type": "code",
   "execution_count": null,
   "metadata": {},
   "outputs": [],
   "source": [
    "tuple_2 = ('a', 4.2, 5, [2, \"spam\"]) \n",
    "print(\"The content of the tuple is:\", tuple_2)\n",
    "print(\"The length of tuple is:\", len(tuple_2))\n",
    "print(\"The last element of the tuple is:\", tuple_2[-1])    # The last element is a list!"
   ]
  },
  {
   "cell_type": "markdown",
   "metadata": {},
   "source": [
    "#### Creating empty lists and tuples"
   ]
  },
  {
   "cell_type": "code",
   "execution_count": null,
   "metadata": {},
   "outputs": [],
   "source": [
    "list_1 = []\n",
    "list_1 = list()\n",
    "print(\"Content:\", list_1, \" Type:\", type(list_1), \" Lenght:\", len(list_1))\n",
    "\n",
    "tuple_1 = ()\n",
    "tuple_1 = tuple()\n",
    "print(\"Content:\", tuple_1, \" Type:\", type(tuple_1), \" Lenght:\", len(tuple_1))"
   ]
  },
  {
   "cell_type": "markdown",
   "metadata": {},
   "source": [
    "#### Creating lists and tuples from iterables (e.g. sequences such as lists/tuples, range, generators)"
   ]
  },
  {
   "cell_type": "code",
   "execution_count": null,
   "metadata": {},
   "outputs": [],
   "source": [
    "list_1 = list((1, 2, 3))\n",
    "tuple_1 = tuple([1, 2, 3])\n",
    "print(list_1)\n",
    "print(tuple_1)\n",
    "\n",
    "list_1 = list(range(21))\n",
    "tuple_1 = tuple(range(21))\n",
    "print(list_1)\n",
    "print(tuple_1)"
   ]
  },
  {
   "cell_type": "markdown",
   "metadata": {},
   "source": [
    "<br>\n",
    "\n",
    "[Back to ToC](#toc)\n",
    "\n",
    "### List and tuple slicing <a id='21'></a>\n",
    "\n",
    "The **`[]` operator** works in much the same way than with strings, and allows **accessing individual objects** from a list/tuple, or **slicing** it.\n",
    "\n",
    "As with strings, remember that the end position index is **excluded** from the slicing."
   ]
  },
  {
   "cell_type": "code",
   "execution_count": null,
   "metadata": {},
   "outputs": [],
   "source": [
    "my_list = [1, 2, \"spam\", \"eggs\", 5.2, [2, \"spam\"]]\n",
    "my_tuple = tuple(my_list)\n",
    "print(my_list)\n",
    "print(my_tuple[0])     # get the 1st item of the list.\n",
    "print(my_list[2:])     # get all elements from index 2 (i.e. the 3rd element) to the end of the list.\n"
   ]
  },
  {
   "cell_type": "markdown",
   "metadata": {},
   "source": [
    "<br>\n",
    "\n",
    "[Back to ToC](#toc)\n",
    "\n",
    "### Mutability - an important difference between lists and tuples <a id='22'></a>\n",
    "* A `tuple` is **immutable**: its length is fixed and its elements cannot be changed.\n",
    "* A `list` is **mutable**: it can be extended, reduced, and its elements can be changed.\n",
    "\n",
    "For more details about object mutability in python, see the **Additional Theory** section at the end of this notebook."
   ]
  },
  {
   "cell_type": "code",
   "execution_count": null,
   "metadata": {},
   "outputs": [],
   "source": [
    "# Changing an element in a list\n",
    "my_list = [1 , 2 , 3 , 5 , 5.2 , 6.99]\n",
    "print(my_list[3])\n",
    "my_list[3] = \"Spam\"\n",
    "print(my_list[3])\n",
    "print(my_list)"
   ]
  },
  {
   "cell_type": "code",
   "execution_count": null,
   "metadata": {
    "scrolled": true
   },
   "outputs": [],
   "source": [
    "# Trying the same with a tuple raises a TypeError:\n",
    "my_tuple = (1 , 2 , 3 , 5) \n",
    "my_tuple[3] = \"spam\""
   ]
  },
  {
   "cell_type": "markdown",
   "metadata": {},
   "source": [
    "What can be done however, is to assign a new tuple to the same variable - this will *look* like we have modified a tuple, but in fact we have created a new tuple object and assigned it to our variable."
   ]
  },
  {
   "cell_type": "code",
   "execution_count": null,
   "metadata": {},
   "outputs": [],
   "source": [
    "my_tuple = (1 , 2 , 3 , \"spam\")    # We do not modify an existing tuple: we create a new one.\n",
    "print(my_tuple)"
   ]
  },
  {
   "cell_type": "markdown",
   "metadata": {},
   "source": [
    "<br>\n",
    "\n",
    "**Additional info**\n",
    "\n",
    "* We just saw that **tuples are immutable**... but let's consider the following:"
   ]
  },
  {
   "cell_type": "code",
   "execution_count": null,
   "metadata": {},
   "outputs": [],
   "source": [
    "my_tuple = (\"a\", \"b\", [1, 2, 3])\n",
    "print(\"The tuple looks like this:\", my_tuple)\n",
    "\n",
    "my_tuple[2][2] = \"did I just change an immutable tuple?\"\n",
    "print(\"The tuple looks like this:\", my_tuple)"
   ]
  },
  {
   "cell_type": "markdown",
   "metadata": {},
   "source": [
    "In the above, it *looks* like we have modified a tuple! But looks can be misleading: the tuple does not really contain the list itself, only a **pointer to the list**. Changing the content of a list does not change its pointer, and therefore the tuple has in fact not been modified. The same behavior happens if we store a dictionary in a tuple.\n",
    "\n",
    "<br>\n",
    "\n",
    "This behaviour can be visualized using this [interactive code visualizer](https://pythontutor.com/render.html#code=my_tuple%20%3D%20%28%22a%22,%20%22b%22,%20%5B1,%202,%203%5D%29%0Aprint%28%22The%20tuple%20looks%20like%20this%3A%22,%20my_tuple%29%0A%0Amy_tuple%5B2%5D%5B2%5D%20%3D%20%22did%20I%20just%20change%20an%20immutable%20tuple%3F%22%0Aprint%28%22The%20tuple%20looks%20like%20this%3A%22,%20my_tuple%29&cumulative=false&curInstr=0&heapPrimitives=nevernest&mode=display&origin=opt-frontend.js&py=3&rawInputLstJSON=%5B%5D&textReferences=false)\n",
    "\n",
    "\n",
    "<br>\n",
    "\n",
    "### List copy vs. copy of pointer"
   ]
  },
  {
   "cell_type": "code",
   "execution_count": null,
   "metadata": {},
   "outputs": [],
   "source": [
    "l1 = [1, 2, 3]\n",
    "l2 = l1         \n",
    "l2 = l1.copy()    # To make a copy of the actual list object, we must use the \"copy()\" method of list.\n",
    "print(l1)\n",
    "print(l2)\n",
    "\n",
    "l2[0] = -1\n",
    "print(l1)\n",
    "print(l2)"
   ]
  },
  {
   "cell_type": "markdown",
   "metadata": {},
   "source": [
    "<br>\n",
    "\n",
    "[Back to ToC](#toc)\n",
    "\n",
    "### Manipulating lists: adding and removing elements <a id='23'></a>\n",
    "\n",
    "Remember the `help()` function ? Let's use it to gain a better understanding of the lists :"
   ]
  },
  {
   "cell_type": "code",
   "execution_count": null,
   "metadata": {},
   "outputs": [],
   "source": [
    "help(list)"
   ]
  },
  {
   "cell_type": "markdown",
   "metadata": {},
   "source": [
    "That's a lot of information... let's go through it!  \n",
    "* First we learn that `list` is a class (i.e. a function that can generate objects of a certain type).\n",
    "  It can thus create objects of type `list`.\n",
    "* The help page then tells us that lists are `Built-in mutable sequence`, and describes the behaviour \n",
    "  of `list()` if no argument is given (creates an empty list). \n",
    "* Then, it says `Methods defined here:`\n",
    "    * **Methods** are functions that can be called on objects of the class they belong to.\n",
    "      This often enable some basic manipulation of objects of that type.  \n",
    "    * Methods are called using the syntax **`object.method(...)`**.\n",
    "    * Methods that start with `__` are **private methods**. They are not meant to be directly called\n",
    "      by the end user.\n",
    "    * The **`/` symbol** found in some method signatures indicates that **all arguments present before the `/`\n",
    "      are positional arguments, even if they have a default value**. They have to be passed in the correct\n",
    "      order, and cannot be passed with their `name=value` - \n",
    "      [more details here](https://www.python.org/dev/peps/pep-0570/).\n",
    "\n",
    "Let's focus on 3 methods of the `list` class:\n",
    " * `append(self, object, /) `: this method adds an object - given as argument - at the end of the list.\n",
    " * `extend(self, iterable, /) `: this method concatenates (extends) the list with the items from the iterable \n",
    "    passed as argument.\n",
    " * `insert(self, index, object, /)`: this method inserts an object - given as the 2nd argument - before \n",
    "   the index given as the 1st argument.\n",
    " \n",
    "#### Let's try out these methods:"
   ]
  },
  {
   "cell_type": "code",
   "execution_count": null,
   "metadata": {},
   "outputs": [],
   "source": [
    "my_list = [1 , 2 , 3 , 5]\n",
    "print(\"Initially, my list is:\", my_list)\n",
    "\n",
    "# Calling the \"append()\" method of the my_list list to add an element at the end of it.\n",
    "my_list.append(\"ham\") \n",
    "print(\"The list, after appending 'ham' is now:\", my_list)"
   ]
  },
  {
   "cell_type": "code",
   "execution_count": null,
   "metadata": {},
   "outputs": [],
   "source": [
    "my_list.append(\"eggs\")\n",
    "print(my_list)"
   ]
  },
  {
   "cell_type": "markdown",
   "metadata": {},
   "source": [
    "#### `append()` vs. `extend()` vs. concatenation"
   ]
  },
  {
   "cell_type": "code",
   "execution_count": null,
   "metadata": {},
   "outputs": [],
   "source": [
    "honey = \"honey\"\n",
    "my_list = [1, 2, 3]\n",
    "my_list.append([\"spam\", \"eggs\"])\n",
    "print(my_list)\n",
    "print(\"List length:\", len(my_list), \"\\n\")\n",
    "\n",
    "my_list = [1, 2, 3]\n",
    "my_list.extend([\"spam\", \"eggs\"])\n",
    "print(my_list)\n",
    "print(\"List length:\", len(my_list), \"\\n\")\n",
    "\n",
    "my_list = [1, 2, 3]\n",
    "\n",
    "#my_list = my_list + [\"spam\", \"eggs\"]\n",
    "\n",
    "my_list += [\"spam\", \"eggs\"]\n",
    "print(my_list)\n",
    "print(\"List length:\", len(my_list), \"\\n\")"
   ]
  },
  {
   "cell_type": "markdown",
   "metadata": {},
   "source": [
    "#### `insert()` method"
   ]
  },
  {
   "cell_type": "code",
   "execution_count": null,
   "metadata": {},
   "outputs": [],
   "source": [
    "# Calling the method insert of my_list to add an element in second position. \n",
    "# Remember that Python indices start with 0, so inserting before position 1 puts \n",
    "# the new object in second position in my_list (and not in the first).\n",
    "my_list.insert(1 , \"beans\") \n",
    "print(\"list after insert:\", my_list)"
   ]
  },
  {
   "cell_type": "markdown",
   "metadata": {},
   "source": [
    "**Methods are a very important part of python**, and provide tons of functionalities to objects.  \n",
    "Before you start writing your own code to manipulate an object, **always check** if the object already has a method that does exactly (or nearly) what you want. This will save you a lot of time and grief."
   ]
  },
  {
   "cell_type": "markdown",
   "metadata": {},
   "source": [
    "<br>\n",
    "\n",
    "### Deleting elements in a list\n",
    "\n",
    "* `del list_object[]`: **deletes** a single element or a slice.\n",
    "* `list_object.pop(x)`: **deletes** the element at position `x` **and returns it**.\n",
    "  If no arguments are passed to `pop()`, the last element of the list is removed by default.\n",
    "  \n",
    "**Example:** deleting with `del`:"
   ]
  },
  {
   "cell_type": "code",
   "execution_count": null,
   "metadata": {},
   "outputs": [],
   "source": [
    "list_1 = list(range(21))\n",
    "print(list_1, \"\\n\")\n",
    "\n",
    "# Delete the last element from the list.\n",
    "del list_1[-1]\n",
    "print(list_1)\n",
    "\n",
    "# Delete all elements in positions 0 to 9. The element in position 10 is not deleted.\n",
    "del list_1[0:10]\n",
    "print(list_1)"
   ]
  },
  {
   "cell_type": "markdown",
   "metadata": {},
   "source": [
    "<br>\n",
    "\n",
    "**Example:** deleting with the `pop()` method:"
   ]
  },
  {
   "cell_type": "code",
   "execution_count": null,
   "metadata": {},
   "outputs": [],
   "source": [
    "list_1 = list(range(21))\n",
    "print(list_1, \"\\n\")\n",
    "\n",
    "# By default, the last element of the list is removed by pop()\n",
    "removed = list_1.pop()\n",
    "print(list_1)\n",
    "print(\"The element removed by pop is:\", removed, end=\"\\n\\n\")\n",
    "\n",
    "removed = list_1.pop(0)\n",
    "print(list_1)\n",
    "print(\"The element removed by pop is:\", removed)"
   ]
  },
  {
   "cell_type": "markdown",
   "metadata": {},
   "source": [
    "<br>\n",
    "\n",
    "[Back to ToC](#toc)\n",
    "\n",
    "### From list to string, and back again ... <a id='24'></a>\n",
    "Since string variable are **iterables** (they are sequences of characters), they can be converted to lists using the `list()` function:"
   ]
  },
  {
   "cell_type": "code",
   "execution_count": null,
   "metadata": {},
   "outputs": [],
   "source": [
    "my_string = \"Drop your panties Sir William, I cannot wait till lunchtime.\"\n",
    "list_from_string = list(my_string)\n",
    "print(list_from_string)"
   ]
  },
  {
   "cell_type": "markdown",
   "metadata": {},
   "source": [
    "As can be seen above, the default behavior is that each letter of the string becomes an element in the list.\n",
    "\n",
    "However, often we prefer to create a list that contains each word of the string. For this we use the **`split()`** method of string:\n",
    "* The `split()` method is very useful when reading formatted text files.\n",
    "* By default, it splits on white space (i.e. spaces, tabs, newlines).\n",
    "* It accepts an optional `sep` argument that allows separation of fields using the specified character (look up `help(str.split)` for details)."
   ]
  },
  {
   "cell_type": "code",
   "execution_count": null,
   "metadata": {},
   "outputs": [],
   "source": [
    "my_string = \"Drop your panties Sir William, I cannot wait till lunchtime.\"\n",
    "my_list = my_string.split()\n",
    "print(my_list)"
   ]
  },
  {
   "cell_type": "markdown",
   "metadata": {},
   "source": [
    "To convert a list to a string, the **`join()`** method can be used - it can be seen as the inverse of `split()`.\n",
    "Somehow counter-intuitively, the `join()` method applies to strings, and takes a list as argument:"
   ]
  },
  {
   "cell_type": "code",
   "execution_count": null,
   "metadata": {},
   "outputs": [],
   "source": [
    "# Here, the separator calls the join method which accepts the list \"my_list\" as argument.\n",
    "my_string = \" \".join(my_list) \n",
    "print(my_string)\n",
    "\n",
    "# One can use a more exotic separator - in fact, any string can be used as separator.\n",
    "my_string = \"_SEP_\".join(my_list) \n",
    "print(my_string)\n",
    "\n",
    "# TIP: use an empty separator to just join letters.\n",
    "my_string = \"\".join(['to','ba','c','co','ni','st']) \n",
    "print(my_string)"
   ]
  },
  {
   "cell_type": "markdown",
   "metadata": {},
   "source": [
    "<br>\n",
    "\n",
    "**Tip**: lists can be concatenated with the `+` operator, extended with `+=` (addition assignment) and \"multiplied\" with `*`:"
   ]
  },
  {
   "cell_type": "code",
   "execution_count": null,
   "metadata": {},
   "outputs": [],
   "source": [
    "# Create a new list by appending two lists.\n",
    "list_one = [ ',' , 1159 ]\n",
    "list_two = list_one + [10.1, '45', 7] \n",
    "print(list_two)\n",
    "\n",
    "# Extend a list with the += operator.\n",
    "# This could also have been written with the += operator:\n",
    "# list_one += [10.1, '45', 7] \n",
    "\n",
    "# As well as multiplication\n",
    "menu = ['spam', 'eggs'] * 3 \n",
    "print(menu)"
   ]
  },
  {
   "cell_type": "markdown",
   "metadata": {},
   "source": [
    "<br>\n",
    "\n",
    "<div class=\"alert alert-block alert-success\">\n",
    "\n",
    "### Micro Exercise 5 <a id='25'></a>\n",
    "* create a list with all integers from 0 to 3 in it.\n",
    "* Add two numbers at the end of the list.\n",
    "* Use a slicing operation to select the fourth element in the list.\n",
    "\n",
    "* **If you have the time:**\n",
    "    * What is the difference between `list.pop()` and `list.remove()`? Try to figure-it out empirically\n",
    "      by trying to append a list to another list.\n",
    "    * Why does `print(my_list.append(\"something\"))` print \"None\"?\n",
    "\n",
    "<div>"
   ]
  },
  {
   "cell_type": "code",
   "execution_count": null,
   "metadata": {},
   "outputs": [],
   "source": []
  },
  {
   "cell_type": "markdown",
   "metadata": {},
   "source": [
    "<br>\n",
    "<br>\n",
    "\n",
    "[Back to ToC](#toc)\n",
    "\n",
    "## Dictionaries <a id='26'></a>\n",
    "Dictionaries, or `dict`, are containers that associate a **key** to a **value**, just like a real world dictionary associates a word to its definition.\n",
    "* Dictionaries are instantiated with the `{key:value}` or `dict(key=value)` syntax.\n",
    "* **keys** must be unique in the dictionary.\n",
    "* **values** can appear as many time as desired in the dictionary.\n",
    "* the `[]` operator is used to **select objects from the dictionary**, but **using their key** instead\n",
    "  of their index.\n",
    "  ```python\n",
    "  color_code = {'blue': 23, 'green': 45, 'red': 8}\n",
    "  color_code['blue']   # returns 23\n",
    "  color_code['red']    # returns 8\n",
    "  ```\n",
    "* Unlike lists or tuples, **dictionaries** are **unordered collections**: they do not record element position \n",
    "  or order of insertion. Therefore values cannot be retrieved by index position. E.g. `color_code[0]` is not \n",
    "  a valid syntax (and will raise a `keyError`), unless there is a key value of \"0\" in the dict.\n",
    "* Dictionaries are **mutable** objects: `key:value` pairs can be added and removed, values can be modified. "
   ]
  },
  {
   "cell_type": "markdown",
   "metadata": {},
   "source": [
    "#### Example 1"
   ]
  },
  {
   "cell_type": "code",
   "execution_count": null,
   "metadata": {},
   "outputs": [],
   "source": [
    "d = {\n",
    "    \"fox\": \"orange and white animal\",\n",
    "    \"penguin\": \"black and white animal\"\n",
    "}\n",
    "print(d)\n",
    "\n",
    "# Retrieve value from dictonary:\n",
    "#print(d[0])\n",
    "print(d[\"fox\"])\n",
    "print(d[\"penguin\"])\n",
    "\n",
    "# Edit an entry in the dictionary\n",
    "d[\"penguin\"] = d[\"penguin\"] + \", lives in the antarctic\"\n",
    "#d[\"penguin\"] += \", lives in the antarctic\"\n",
    "print(d)\n",
    "print(d[\"penguin\"])"
   ]
  },
  {
   "cell_type": "markdown",
   "metadata": {},
   "source": [
    "#### Example 2"
   ]
  },
  {
   "cell_type": "code",
   "execution_count": null,
   "metadata": {},
   "outputs": [],
   "source": [
    "# Create an empty dictionary.\n",
    "student_age = dict()\n",
    "student_age = {}\n",
    "\n",
    "# Create a dictionary and directly add values to it.\n",
    "student_age = {'Anne': 26 , \n",
    "               'Viktor': 31 }\n",
    "student_age = dict(Anne=26, Viktor=31)\n",
    "print(student_age)\n",
    "print(\"The age of Anne is:\", student_age[\"Anne\"])\n",
    "print(\"The age of Viktor is:\", student_age[\"Viktor\"])"
   ]
  },
  {
   "cell_type": "markdown",
   "metadata": {},
   "source": [
    "<br>\n",
    "\n",
    "Adding new `key:value` pairs to a dictionary, or modifying an existing key is as easy as:"
   ]
  },
  {
   "cell_type": "code",
   "execution_count": null,
   "metadata": {},
   "outputs": [],
   "source": [
    "# Add a new entry to the dictionary:\n",
    "student_age['Eleonore'] = 5\n",
    "print('dictionary:', student_age)\n",
    "\n",
    "# Modify the value associated to a key:\n",
    "student_age['Eleonore'] = 25\n",
    "print('dictionary:',student_age)"
   ]
  },
  {
   "cell_type": "markdown",
   "metadata": {},
   "source": [
    "<br>\n",
    "\n",
    "We are not restricted to a particular type for keys, nor for values. We can e.g. make dict of lists or dict of dict."
   ]
  },
  {
   "cell_type": "code",
   "execution_count": null,
   "metadata": {},
   "outputs": [],
   "source": [
    "student_age[0] = 'zero'                             # key is an integer number.\n",
    "student_age['group_1'] = [23, 25, 28]               # value is a list.\n",
    "student_age['group_2'] = {'bob': 26, 'alice': 27}   # value is a dict. \n",
    "print(\"dictionary:\", student_age)\n",
    "print(\"Bob's age is:\", student_age['group_2'][\"bob\"])"
   ]
  },
  {
   "cell_type": "markdown",
   "metadata": {},
   "source": [
    "<br>\n",
    "\n",
    "### Removing items from a dictionary\n",
    "Removing an item for a dictionary is similar as deleting items from a list:\n",
    " * **`dict.pop(key)`**: deletes the specified `key` from the dictionary and returns it value.\n",
    " * **`del dict[key]`**: deletes the specified `key` from the dictionary."
   ]
  },
  {
   "cell_type": "code",
   "execution_count": null,
   "metadata": {},
   "outputs": [],
   "source": [
    "student_age = {\"Anne\": 26, \"Viktor\": 31 , \"Eleonore\": 25}\n",
    "print('dictionary:',student_age)\n",
    "\n",
    "del student_age[\"Viktor\"]\n",
    "removed_value = student_age.pop(\"Anne\")\n",
    "print('dictionary:',student_age)\n",
    "\n",
    "print(\"\\nThe value we removed with 'pop' is:\", removed_value)"
   ]
  },
  {
   "cell_type": "markdown",
   "metadata": {},
   "source": [
    "<br>\n",
    "<br>\n",
    "\n",
    "## Exercises 1.1 - 1.5 <a id='27'></a>\n",
    "\n",
    "<br>\n",
    "<br>\n",
    "<br>\n",
    "\n",
    "[Back to ToC](#toc)\n",
    "\n",
    "# Additional Theory <a id='28'></a>\n",
    "-----------------------------\n",
    "\n",
    "If you have time, feel free to try the **additionnal exercises** for module 1.\n",
    "\n",
    "<br>\n",
    "\n",
    "### Mutability of objects in Python <a id='29'></a>\n",
    "\n",
    "All objects in Python can be either **mutable** or **immutable**. This is an important notation that newcomers to Python need to be aware of, which otherwise can lead to serious bugs in our codes.\n",
    "\n",
    "What do we mean by *mutable*? We leant that everything in Python is an Object and every variable holds an instance of an object. Once its type is set at runtime it can never change. A list is always a list, an integer is always an integer. However its value can be modified if it is mutable.\n",
    "\n",
    "A mutable object can be changed/modified after it is created, and an immutable object can’t."
   ]
  },
  {
   "cell_type": "markdown",
   "metadata": {},
   "source": [
    "| Class   | Mutable |\n",
    "| ------- |:-------:|\n",
    "| `bool`  | no |\n",
    "| `int`   | no |\n",
    "| `float` | no |\n",
    "| `str`   | no |\n",
    "| `list`  | yes |\n",
    "| `tuple` | no |\n",
    "| `dict`  | yes |"
   ]
  },
  {
   "cell_type": "code",
   "execution_count": null,
   "metadata": {},
   "outputs": [],
   "source": [
    "# Mutability has not much practical importance for simple types,\n",
    "# but it has for container types.\n",
    "# Let's see this with some examples\n",
    "\n",
    "a_str = \"Python\"\n",
    "a_list = [\"P\", \"y\", \"t\", \"h\", \"o\", \"n\"]\n",
    "a_tuple = (\"P\", \"y\", \"t\", \"h\", \"o\", \"n\")\n",
    "a_dict = {0: \"P\", 1: \"y\", 2: \"t\", 3: \"h\", 4: \"o\", 5: \"n\"}"
   ]
  },
  {
   "cell_type": "code",
   "execution_count": null,
   "metadata": {},
   "outputs": [],
   "source": [
    "print(a_str[0])\n",
    "\n",
    "# let's try to change \"P\" into \"p\"\n",
    "a_str[0] = \"p\""
   ]
  },
  {
   "cell_type": "code",
   "execution_count": null,
   "metadata": {},
   "outputs": [],
   "source": [
    "# Let's try with list\n",
    "print(a_list[0])\n",
    "a_list[0] = \"p\"\n",
    "print(a_list)"
   ]
  },
  {
   "cell_type": "code",
   "execution_count": null,
   "metadata": {},
   "outputs": [],
   "source": [
    "# However, the 'immutable' cousin of list, the tuple, does not allow assignment\n",
    "print(a_tuple[0])\n",
    "a_tuple[0] = \"p\""
   ]
  },
  {
   "cell_type": "code",
   "execution_count": null,
   "metadata": {},
   "outputs": [],
   "source": [
    "# And with dict \n",
    "print(a_dict[0])\n",
    "a_dict[0] = \"p\"\n",
    "print(a_dict)"
   ]
  },
  {
   "cell_type": "code",
   "execution_count": null,
   "metadata": {},
   "outputs": [],
   "source": [
    "my_dict = {\"str\": a_str, \"list\": a_list}\n",
    "another_dict = my_dict\n",
    "print(another_dict[\"list\"])"
   ]
  },
  {
   "cell_type": "code",
   "execution_count": null,
   "metadata": {},
   "outputs": [],
   "source": [
    "# Now let's modify my_dict\n",
    "my_dict[\"list\"][0] = \"P\"\n",
    "# and see what happens to both dictionaries\n",
    "print(\"my_dict:\", my_dict)\n",
    "print(\"another_dict:\", another_dict)"
   ]
  },
  {
   "cell_type": "markdown",
   "metadata": {},
   "source": [
    "Although we never changed/modified `another_dict`, it was also changed. This is because the key **'list'** in both dictionaries refer to the same `list` object: `a_list`. It is mutable and once it is modified, both dictionaries will reflect this modification. Let's visit this with a final example."
   ]
  },
  {
   "cell_type": "code",
   "execution_count": null,
   "metadata": {},
   "outputs": [],
   "source": [
    "a_list[0] = \"Z\"\n",
    "print(\"my_dict:\", my_dict)\n",
    "print(\"another_dict:\", another_dict)"
   ]
  },
  {
   "cell_type": "markdown",
   "metadata": {},
   "source": [
    "To summarize:\n",
    "\n",
    "* An object in Python can either be mutable or immutable\n",
    "* We can simply check it by trying to modify a variable\n",
    "* `str` and `tuple` are immutable\n",
    "* `list` and `dict` are mutable\n",
    "* We need to pay attention when we modify mutable objects that are referred from multiple objects!"
   ]
  },
  {
   "cell_type": "code",
   "execution_count": null,
   "metadata": {},
   "outputs": [],
   "source": [
    "my_dict[\"str\"] = \"Zython\"\n",
    "print(\"my_dict:\", my_dict)\n",
    "print(\"another_dict:\", another_dict)"
   ]
  },
  {
   "cell_type": "code",
   "execution_count": null,
   "metadata": {},
   "outputs": [],
   "source": [
    "a_third_dict = my_dict.copy()\n",
    "my_dict[\"str\"] = \"Kython\"\n",
    "my_dict[\"list\"][0] = \"K\"\n",
    "print(\"my_dict:\", my_dict)\n",
    "print(\"third_dict:\", a_third_dict)"
   ]
  },
  {
   "cell_type": "markdown",
   "metadata": {},
   "source": [
    "<br>\n",
    "\n",
    "[Back to ToC](#toc)\n",
    "\n",
    "### A solution: explicit deep copy <a id='30'></a>\n",
    "\n",
    "The difference between shallow and deep copying is only relevant for compound objects (objects that contain other objects, like lists or class instances):\n",
    "\n",
    "* A **shallow copy** constructs a new compound object and then (to the extent possible) inserts references into\n",
    "  it to the objects found in the original.\n",
    "* A **deep copy** constructs a new compound object and then, recursively, inserts copies into it of the objects found\n",
    "  in the original."
   ]
  },
  {
   "cell_type": "code",
   "execution_count": null,
   "metadata": {},
   "outputs": [],
   "source": [
    "import copy\n",
    "a_third_dict = copy.deepcopy(my_dict)   # <- explicit deep copy\n",
    "my_dict[\"str\"] = \"Back to Python\"\n",
    "my_dict[\"list\"][0] = \"P\"\n",
    "print(\"my_dict:\", my_dict)\n",
    "print(\"another_dict:\", a_third_dict)"
   ]
  }
 ],
 "metadata": {
  "kernelspec": {
   "display_name": "Python 3 (ipykernel)",
   "language": "python",
   "name": "python3"
  },
  "language_info": {
   "codemirror_mode": {
    "name": "ipython",
    "version": 3
   },
   "file_extension": ".py",
   "mimetype": "text/x-python",
   "name": "python",
   "nbconvert_exporter": "python",
   "pygments_lexer": "ipython3",
   "version": "3.8.10"
  }
 },
 "nbformat": 4,
 "nbformat_minor": 4
}
