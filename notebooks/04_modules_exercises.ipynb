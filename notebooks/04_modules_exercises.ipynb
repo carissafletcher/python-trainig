{
 "cells": [
  {
   "cell_type": "markdown",
   "metadata": {},
   "source": [
    "# Exercises module 4 - working with modules\n",
    "------------------------------------------------------------------\n",
    "\n",
    "\n",
    "## Exercise 4.1\n",
    "\n",
    "Write a function that takes as argument the name of a folder and returns the number of files present in it (non-recursively)."
   ]
  },
  {
   "cell_type": "code",
   "execution_count": null,
   "metadata": {},
   "outputs": [],
   "source": []
  },
  {
   "cell_type": "markdown",
   "metadata": {},
   "source": [
    "<br>\n",
    "\n",
    "### Solution:\n",
    "Uncomment and run the cell below to show the solution."
   ]
  },
  {
   "cell_type": "code",
   "execution_count": null,
   "metadata": {},
   "outputs": [],
   "source": [
    "# %load solutions/solution_41.py"
   ]
  },
  {
   "cell_type": "markdown",
   "metadata": {},
   "source": [
    "<br>\n",
    "\n",
    "## Exercise 4.2\n",
    "What does this line of code do?  \n",
    "`time.sleep(3)`"
   ]
  },
  {
   "cell_type": "code",
   "execution_count": null,
   "metadata": {},
   "outputs": [],
   "source": []
  },
  {
   "cell_type": "markdown",
   "metadata": {},
   "source": [
    "<br>\n",
    "\n",
    "### Solution:\n",
    "Uncomment and run the cell below to show the solution."
   ]
  },
  {
   "cell_type": "code",
   "execution_count": null,
   "metadata": {},
   "outputs": [],
   "source": [
    "# %load solutions/solution_42.py"
   ]
  },
  {
   "cell_type": "markdown",
   "metadata": {},
   "source": [
    "<br>\n",
    "<br>\n",
    "\n",
    "\n",
    "# Additional Exercises\n",
    "---------------------------------\n",
    "\n",
    "\n",
    "## Exercise 4.3\n",
    "\n",
    "Import the function `is_part_of_set` of the `exercise_43_module` module, located in the same directory as this notebook.\n",
    "1. What does `is_part_of_set` do ?\n",
    "2. Use `is_part_of_set` to get the list of all prime numbers between 2 to 50000.\n",
    "3. How long does this computation takes ?\n",
    "\n",
    "\n",
    "**Optional:** Try to devise a more time efficient way of getting this list of prime numbers. Compute your speedup.\n"
   ]
  },
  {
   "cell_type": "code",
   "execution_count": null,
   "metadata": {},
   "outputs": [],
   "source": []
  },
  {
   "cell_type": "markdown",
   "metadata": {},
   "source": [
    "<br>\n",
    "\n",
    "### Solution:\n",
    "Uncomment and run the cell below to show the solution."
   ]
  },
  {
   "cell_type": "code",
   "execution_count": null,
   "metadata": {},
   "outputs": [],
   "source": [
    "# %load solutions/solution_43.py"
   ]
  }
 ],
 "metadata": {
  "kernelspec": {
   "display_name": "Python 3 (ipykernel)",
   "language": "python",
   "name": "python3"
  },
  "language_info": {
   "codemirror_mode": {
    "name": "ipython",
    "version": 3
   },
   "file_extension": ".py",
   "mimetype": "text/x-python",
   "name": "python",
   "nbconvert_exporter": "python",
   "pygments_lexer": "ipython3",
   "version": "3.8.10"
  }
 },
 "nbformat": 4,
 "nbformat_minor": 4
}
