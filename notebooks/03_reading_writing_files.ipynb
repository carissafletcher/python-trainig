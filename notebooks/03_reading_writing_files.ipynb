{
 "cells": [
  {
   "cell_type": "markdown",
   "metadata": {},
   "source": [
    "# Module 3 - Reading and writing files  \n",
    "--------------------------------------------------------\n",
    "\n",
    "\n",
    "## Table of Content <a id='toc'></a>\n",
    "\n",
    "\n",
    "&nbsp;&nbsp;&nbsp;&nbsp;[**Introduction**](#0)\n",
    "\n",
    "&nbsp;&nbsp;&nbsp;&nbsp;[**Where is my file**](#1)\n",
    "\n",
    "&nbsp;&nbsp;&nbsp;&nbsp;[**File opening modes**](#2)\n",
    "\n",
    "&nbsp;&nbsp;&nbsp;&nbsp;[**Reading from files**](#3)  \n",
    "&nbsp;&nbsp;&nbsp;&nbsp;&nbsp;&nbsp;&nbsp;&nbsp;[Reading lines manually](#3.1)  \n",
    "&nbsp;&nbsp;&nbsp;&nbsp;&nbsp;&nbsp;&nbsp;&nbsp;[End-of-line characters](#3.2)  \n",
    "\n",
    "&nbsp;&nbsp;&nbsp;&nbsp;[**Writing to files**](#4)\n",
    "\n",
    "&nbsp;&nbsp;&nbsp;&nbsp;[**Exercises 3.1 and 3.2**](#5)\n",
    "\n",
    "&nbsp;&nbsp;&nbsp;&nbsp;[**Additional Material**](#6)  \n",
    "&nbsp;&nbsp;&nbsp;&nbsp;&nbsp;&nbsp;&nbsp;&nbsp;[Reading a file's entire content at once](#6.1)  \n",
    "&nbsp;&nbsp;&nbsp;&nbsp;&nbsp;&nbsp;&nbsp;&nbsp;[Easier reading of .csv formatted file](#6.2)  \n",
    "&nbsp;&nbsp;&nbsp;&nbsp;&nbsp;&nbsp;&nbsp;&nbsp;[Opening files without context managers](#6.3)  \n",
    "&nbsp;&nbsp;&nbsp;&nbsp;&nbsp;&nbsp;&nbsp;&nbsp;[Reading files using a while loop](#6.4)  \n",
    "&nbsp;&nbsp;&nbsp;&nbsp;&nbsp;&nbsp;&nbsp;&nbsp;[Some new cool syntax for Python >= 3.8](#6.5)  "
   ]
  },
  {
   "cell_type": "markdown",
   "metadata": {},
   "source": [
    "<br>\n",
    "\n",
    "\n",
    "## Introduction <a id='0'></a>\n",
    "\n",
    "In many use cases, you will want your python code to **read/write from/to files** stored on your local hard drive.  \n",
    "Here are a few important points to consider when working with files:\n",
    "\n",
    "* Where is my file ?\n",
    "* Do I need to read the entire dataset/file into memory?\n",
    "    * remember that accessing the hard drive is among the slower operations a computer performs. \n",
    "      Reading an entire file when you only need the first few lines will be costly\n",
    "    * if you are reading a very large file, then having the entire file in memory at \n",
    "      once may overburden your computer.     \n",
    "* Are there concurrency issues?\n",
    "    * if another software (or even your code if you have messed up) writes to a file you \n",
    "      are currently reading, you could run into trouble.\n",
    "\n",
    "Whether it is for reading or for writing, operations with files occur using **file objects** (sometimes also referred-to as file **handles**).\n",
    "\n",
    "In modern python, files are opened with a *context manager* statement which takes care of properly opening and closing the file once you are done with it.\n",
    "\n",
    "This context manager takes the form of a **with** statement:\n",
    "\n",
    "\n",
    "```python\n",
    "# Open a file in a given \"mode\" (e.g. read, write or append).\n",
    "with open(filename, mode) as fileHandle:\n",
    "\n",
    "    # Do something with the file... (note the indentation)\n",
    "    # ...\n",
    "\n",
    "# When you are outside the block of the with statement, it closes the file\n",
    "\n",
    "```\n",
    "\n",
    "<br>\n",
    "\n",
    "## Where is my file ?  <a id='1'></a>\n",
    "\n",
    "This is the very first step. \n",
    "Without a good idea of\n",
    " 1. where your file is,\n",
    " 2. and where you *code is executing from* you will get nowhere.\n",
    "\n",
    "We leave question 1. to you.\n",
    "\n",
    "With jupyter notebook, the second question has an easy answer : your code executed where the jupyter notebook is saved (with a more classical python script, the code execute from the folder where you called `python`).\n",
    "\n",
    "Now, we need to make sure that our code can find the file.\n",
    "\n",
    "If the file is the same folder as the code, then you can just use the name of the file, no need for further modification.\n",
    "\n",
    "If the file is elsewhere, you will have to specify a path to the file. This can be either a:\n",
    " \n",
    " * **Absolute path:** from the root of the computer to the file. eg,\n",
    "    - `\"C:\\Users\\JohnDoe\\Desktop\\ProjectP\\myFile.txt\"` (Windows)\n",
    "    - `\"/home/JaneDoe/Documents/ProjectP/data/myFile.txt\"` (Linux,Mac)\n",
    "    \n",
    " * **Relative path:** from you code to the file. eg,\n",
    "     - `\"data/myFile.txt\"` (the file is in subfolder data)\n",
    "     - `\"../otherProject/myFile.txt\"` (more complex, the file is in a subfolder of the parent folder)\n",
    "\n",
    "<br>\n",
    "\n",
    "This last case depict a situation like this :\n",
    "```\n",
    "parentFolder:\n",
    " | \n",
    " |- ProjectA:\n",
    " |     |\n",
    " |     |- myCode.ipynb\n",
    " |\n",
    " |- otherProject:\n",
    "       |\n",
    "       |- myFile.txt\n",
    "```\n"
   ]
  },
  {
   "cell_type": "markdown",
   "metadata": {},
   "source": [
    "<br>\n",
    "<br>\n",
    "\n",
    "[Back to ToC](#toc)\n",
    "\n",
    "## File opening modes  <a id='2'></a>\n",
    "When using the `open()` function, a **mode** can be passed as argument to the function. This specifies the type of access you will have on the file. For instance, the `'r'` mode will only allow to read the content of a file, and will not allow writing to it (this is useful to avoid accidental writing to the file).\n",
    "\n",
    "There are several possible modes when opening files:\n",
    "* `'r'`: open file in read-only mode.\n",
    "* `'w'`: open file in write-only mode, **overwriting** an existing file with the same name.\n",
    "* `'a'`: open file in write-only mode, **appending** to an existing file with the same name\n",
    "  (otherwise the file is created).\n",
    "* `'rb'`, `'wb'`, `'ab'`: same as `'r'`, `'w'` and `'a'`, but reading/writing to/from binary files (such as `.zip` or `.bmp` image files). \n",
    "  The content is read/written as bytes objects without any decoding.\n",
    "\n",
    "See `help(open)` or the [python online documentation](https://docs.python.org/3/library/functions.html#open) for a full list of modes and details about them."
   ]
  },
  {
   "cell_type": "markdown",
   "metadata": {},
   "source": [
    "<br>\n",
    "<br>\n",
    "\n",
    "[Back to ToC](#toc)\n",
    "\n",
    "\n",
    "## Reading from files  <a id='3'></a>\n",
    "To start reading a file, one creates a **file object** using `open` function with `mode='r'` .    \n",
    "\n",
    "<br>\n",
    "\n",
    "### Reading lines manually <a id='3.1'></a>\n",
    "\n",
    "When reading a file with python, you have to consider your **file object** a little bit like a cursor which starts at the very beginning of your file, and progresses toward the end of the file (it can go backward, but it is often a bit hacky to do so).\n",
    "\n",
    "<img src=\"img/file_pointer2.png\" alt=\"a file pointer at opening\" style=\"height:200px;\" />\n",
    "\n",
    "<br>\n",
    "\n",
    "\n",
    "You can read elements (ie. make the cursor advance) using the following methods:\n",
    " * **`.readline()`**: the most common, reads a single line\n",
    " * **`.read()`**: reads the rest of the file in one go\n",
    " * **`.readlines()`**: reads the rest of the file in one go, and put each line as an element in a list\n",
    " \n",
    "Each method returns the text it read as a `str`.\n",
    "\n",
    "> The methods return `str` objects: this means that if you read number and want to use it as a `float` (e.g. to do math with it), you will need to convert it from `str` to `float` first (with `float(x)`).\n",
    "\n",
    "We will focus on `.readline()` the most used. When we call it, the file pointer progresses to the next line and returns what was just read\n",
    "\n",
    "<img src=\"img/file_pointer3.png\" alt=\"a file pointer at opening\" style=\"height:200px;\" />\n",
    "\n",
    "When we call `.readline()` again, we get a new line as the pointer continues progressing along the file.\n",
    "\n",
    "<img src=\"img/file_pointer4.png\" alt=\"a file pointer at opening\" style=\"height:200px;\" />\n",
    "\n",
    "Once there is no more line to read, `.readline()` returns an empty string (`\"\"`)\n",
    "\n",
    "<img src=\"img/file_pointer5.png\" alt=\"a file pointer at the end of the file\" style=\"height:200px;\" />\n",
    "\n",
    "**Let's see that with actual code:**"
   ]
  },
  {
   "cell_type": "code",
   "execution_count": null,
   "metadata": {},
   "outputs": [],
   "source": [
    "with open(\"data/fresh_fruits.txt\" , mode=\"r\") as reading_handle:\n",
    "\n",
    "    line = reading_handle.readline() # This function reads a single line from the file.\n",
    "    print(line)                      # Print the line to the screen.\n",
    "\n",
    "    line = reading_handle.readline()\n",
    "    print(\"line:\")\n",
    "    print(line) \n",
    "    line = reading_handle.readline()\n",
    "    print(\"line:\")\n",
    "    print(line) \n",
    "    line = reading_handle.readline()\n",
    "    print(\"line:\")\n",
    "    print(line) \n",
    "    line = reading_handle.readline()\n",
    "    print(\"line:\")\n",
    "    print(line) \n",
    "    # problem : how many time should I do this ?\n",
    "\n",
    "    line = reading_handle.readline()\n",
    "    print(\"line:\")\n",
    "    print(line) \n",
    "    line = reading_handle.readline()\n",
    "    print(\"line:\")\n",
    "    print(line) \n",
    "    line = reading_handle.readline()\n",
    "    print(\"line:\")\n",
    "    print(line) \n"
   ]
  },
  {
   "cell_type": "markdown",
   "metadata": {},
   "source": [
    "Remember: once there is no more line to read, `.readline()` returns an empty string (`''`)\n"
   ]
  },
  {
   "cell_type": "markdown",
   "metadata": {},
   "source": [
    "Using a **`for` loop** to read the file makes this a much tidier code:\n",
    "* Each iteration reads 1 line.\n",
    "* The for loop ends when the entire file was read (because at this point the `line` variable in the\n",
    "  example below will contain `\"\"`, which evaluates to `False` in python)."
   ]
  },
  {
   "cell_type": "code",
   "execution_count": null,
   "metadata": {},
   "outputs": [],
   "source": [
    "with open(\"data/fresh_fruits.txt\" , mode='r') as reading_handle:\n",
    "    i = 0\n",
    "    for line in reading_handle:\n",
    "        print(\"line\", i, \":\", line)\n",
    "        i += 1\n"
   ]
  },
  {
   "cell_type": "markdown",
   "metadata": {},
   "source": [
    "<br>\n",
    "\n",
    "### End-of-line characters  <a id='3.2'></a>\n",
    "As you can see in the example above, there are additional empty lines in between our prints. This is because the lines are read from the file with their **end-of-line** characters, which generally is `\\n` .  \n",
    "\n",
    "To avoid this issue, one typically uses the **`.strip()`** method of strings, which removes any whitespace or end-of-line character at the start or end of the string.\n",
    "\n",
    "**Example:** using `.strip()` when reading content from a file."
   ]
  },
  {
   "cell_type": "code",
   "execution_count": null,
   "metadata": {},
   "outputs": [],
   "source": [
    "with open(\"data/fresh_fruits.txt\", 'r') as reading_handle:\n",
    "\n",
    "    for i, line in enumerate(reading_handle):  # enumerate() is our friend that will automatically enumerate items\n",
    "        print(\"line\", i, \":\", line.strip())    # Note: we use the \"strip()\" method of \"str\" to remove the \n",
    "                                               # trailing \"\\n\" (carriage return) of each line.\n"
   ]
  },
  {
   "cell_type": "markdown",
   "metadata": {},
   "source": [
    "\n",
    "<div class=\"alert alert-block alert-success\">\n",
    "    \n",
    "### Micro Exercise\n",
    "\n",
    "* read the content of `data/titanic_head.csv` and print them. Make sure that no white space is printed between lines.\n",
    "    \n",
    "</div>"
   ]
  },
  {
   "cell_type": "code",
   "execution_count": null,
   "metadata": {},
   "outputs": [],
   "source": []
  },
  {
   "cell_type": "markdown",
   "metadata": {},
   "source": [
    "<br>\n",
    "<br>\n",
    "\n",
    "\n",
    "[Back to ToC](#toc)\n",
    "\n",
    "## Writing to files  <a id='4'></a>\n",
    "Writing to a file is achieved in pretty much the same way as reading from it, but the opening mode is now **`\"w\"`**.  \n",
    "And instead of reading lines, we now `print()` them to the file."
   ]
  },
  {
   "cell_type": "code",
   "execution_count": null,
   "metadata": {},
   "outputs": [],
   "source": [
    "help(print)"
   ]
  },
  {
   "cell_type": "code",
   "execution_count": null,
   "metadata": {},
   "outputs": [],
   "source": [
    "with open(\"shopping_list.txt\", mode=\"w\") as f:\n",
    "    print(\"onion\", file=f)\n",
    "    print(34, \"potato\", file=f)\n",
    "    print(\"shrubbery\", file=f)\n",
    "    print(\"tomato sauce\", file=f)\n"
   ]
  },
  {
   "cell_type": "markdown",
   "metadata": {},
   "source": [
    "By passing the file object (or file handle) to the **`file` argument** of the `print()` function, we now print to the file rather than to our terminal.\n",
    "> **Reminder**: the **`\"w\"`** mode **overwrites** the opened file - if you use it on an existing file,\n",
    "  its original content is lost.\n",
    "\n",
    "> **Pro tip:** you can open more than one file using a single `with` statement by using multiple\n",
    "  context managers in the same code block:\n",
    "> * Either on the same line:\n",
    "  ```python\n",
    "    with open(\"input.txt\", 'r') as in_file, open(\"output.txt\", 'w') as out_file:\n",
    "        do_something()\n",
    "  ```\n",
    "  \n",
    ">  * Or by having one context manager per line, and enclosing them all in parentheses `()`\n",
    "    as shown below (better for readability) - *note: this only works with python >= 3.10* :\n",
    "  ```python\n",
    "    with (\n",
    "        open(\"input.txt\", 'r') as in_file,\n",
    "        open(\"output.txt\", 'w') as out_file,\n",
    "    ):\n",
    "        do_something()\n",
    "  ```"
   ]
  },
  {
   "cell_type": "markdown",
   "metadata": {},
   "source": [
    "<div class=\"alert alert-block alert-info\">\n",
    "\n",
    "#### Additional material\n",
    "\n",
    "You might sometimes see some Python code - especially older ones - that uses the **`.write()`** method of the **file object**.\n",
    "\n",
    "There are some differences between the `print()` method and `.write()`; the most important one is that `.write()` will not do any formatting and even the end-of-line (carriage return) characters need to be manually written.\n",
    "\n",
    "</div>"
   ]
  },
  {
   "cell_type": "code",
   "execution_count": null,
   "metadata": {},
   "outputs": [],
   "source": [
    "with open(\"shopping_list2.txt\", mode=\"w\") as f:\n",
    "    f.write(\"onion\\n\")\n",
    "    f.write(\"{} potato\\n\".format(34))\n",
    "    f.write(\"shrubbery\\n\")\n",
    "    f.write(\"tomato sauce\\n\")\n",
    "    "
   ]
  },
  {
   "cell_type": "markdown",
   "metadata": {},
   "source": [
    "<br>\n",
    "\n",
    "<div class=\"alert alert-block alert-success\">\n",
    "\n",
    "### Micro Exercise - copy a file's content\n",
    "\n",
    "* Write some code to read the content of the `shopping_list.txt` file we just created, in order to check\n",
    "  that the writing did work properly. More specifically, you should:\n",
    "    * Print the content to screen.\n",
    "    * Make a copy of the content in a new file `shopping_list_copy.txt`.\n",
    "    * Make sure that no white space is printed between lines.\n",
    "</div>"
   ]
  },
  {
   "cell_type": "code",
   "execution_count": null,
   "metadata": {},
   "outputs": [],
   "source": []
  },
  {
   "cell_type": "markdown",
   "metadata": {},
   "source": [
    "<br>\n",
    "<br>\n",
    "\n",
    "## Exercises 3.1 and 3.2   <a id='5'></a>\n"
   ]
  },
  {
   "cell_type": "markdown",
   "metadata": {},
   "source": [
    "<br>\n",
    "<br>\n",
    "<br>\n",
    "\n",
    "[Back to ToC](#toc)\n",
    "\n",
    "<div class=\"alert alert-block alert-info\">\n",
    "\n",
    "# Additional Material  <a id='6'></a>\n",
    "-------------------------------------\n",
    "\n",
    "</div>"
   ]
  },
  {
   "cell_type": "markdown",
   "metadata": {},
   "source": [
    "\n",
    "### Reading a file's entire content at once <a id=\"6.1\"></a>\n",
    "\n",
    "Here is another way to read the fruity content of our file: the **`readlines()`** function (note the \"s\" in the name).\n",
    "\n",
    "As its name suggests, `readlines()` reads more than one line at a time (by default, all lines in the file)."
   ]
  },
  {
   "cell_type": "code",
   "execution_count": null,
   "metadata": {},
   "outputs": [],
   "source": [
    "with open(\"data/fresh_fruits.txt\" , 'r') as reading_handle:\n",
    "\n",
    "    entire_file = reading_handle.readlines()                      # the whole content of the file is in memory\n",
    "    print(reading_handle.name, \"has\", len(entire_file), \"lines:\") # and we can check how many lines there are\n",
    "    for i, line in enumerate(entire_file):                        # before we start looping over them\n",
    "        print(\"line\", i, \":\", line.strip())\n",
    "\n",
    "print(entire_file)\n",
    "print(\"The file has\", len(entire_file), \"lines.\")"
   ]
  },
  {
   "cell_type": "markdown",
   "metadata": {},
   "source": [
    "**Question:** while our examples both `readline()` and `readlines()` work equally well, there can be important implications in using one or the other, especially when dealing with large files. Can you think of a drawback of using `readlines()`?\n",
    "\n",
    "<br>\n",
    "<br>\n",
    "<br>\n",
    "\n",
    "**Answer:** <font color='white'>using readlines() will (by default) load the entire file in memory, and this can be problematic when working with large files as is often the case in bioinformatics. Always consider the file sizes you are dealing with when using readlines().</font> (select to reveal)"
   ]
  },
  {
   "cell_type": "markdown",
   "metadata": {},
   "source": [
    "<br>\n",
    "\n",
    "### Easier reading of .csv formatted file <a id='6.2'></a>\n",
    "\n",
    "`csv` (**C**omma **S**eparated **V**alue) is one of the most common file format when it comes to storing tabular data. In this format, each line contain a fixed number of values (columns), separated by a specific character (typically `','`).\n",
    "\n",
    "\n",
    "Classically, when reading these files, we would want to create some form of structure which accounts for this tabular structure.\n",
    "\n",
    "Here is for instance how to create a `list` where each row is a dictionary whose keys are the column name (found in the file first line):\n"
   ]
  },
  {
   "cell_type": "code",
   "execution_count": null,
   "metadata": {},
   "outputs": [],
   "source": [
    "data = []\n",
    "\n",
    "with open(\"data/titanic_head.csv\") as IN:\n",
    "    \n",
    "    line = IN.readline()\n",
    "    \n",
    "    # The column names are in the first line\n",
    "    columnNames = line.strip().split(',')  # .split(',') is our best ally here : it cuts a str into a list \n",
    "    \n",
    "    for line in IN:\n",
    "        sl = line.strip().split(',') ## Split the line in its different fields.\n",
    "        \n",
    "        # Now we map the fields onto their constituent columns.\n",
    "        row = {}\n",
    "        for i in range( len(sl) ):\n",
    "            row[ columnNames[i] ] = sl[i]\n",
    "\n",
    "\n",
    "        data.append(row) # Store the row dictionary.\n",
    "        \n",
    "\n",
    "print('full data:')\n",
    "for row in data:\n",
    "    print(row)\n",
    "\n",
    "print('***')\n",
    "print('Name of passenger 4 : ' , data[4]['Name'])\n",
    "print('Age of passenger 4 : ' , data[4]['Age'])"
   ]
  },
  {
   "cell_type": "markdown",
   "metadata": {},
   "source": [
    "OK, this works, but it is a bit tedious to write.\n",
    "\n",
    "Because csv is such a classical format, python comes with functions that that can help us out:"
   ]
  },
  {
   "cell_type": "code",
   "execution_count": null,
   "metadata": {},
   "outputs": [],
   "source": [
    "import csv   # Imports an external module. Ignore this for now, we'll talk about it in the next notebook\n",
    "\n",
    "data = []\n",
    "\n",
    "with open('data/titanic_head.csv') as f:\n",
    "    \n",
    "    reader = csv.DictReader(f)  # Returns a DictReader object.\n",
    "    for row in reader:\n",
    "        data.append(row)        # Row is a dictionary whose keys correspond to the columns!\n",
    "\n",
    "for row in data:\n",
    "    print(row)"
   ]
  },
  {
   "cell_type": "code",
   "execution_count": null,
   "metadata": {},
   "outputs": [],
   "source": [
    "print(\"full data:\"\")\n",
    "for row in data:\n",
    "    print(row)\n",
    "\n",
    "print(\"***\")\n",
    "print(\"Name of passenger 4 : \" , data[4][\"Name\"])\n",
    "print(\"Age of passenger 4 : \" , data[4][\"Age\"])"
   ]
  },
  {
   "cell_type": "markdown",
   "metadata": {},
   "source": [
    "That is much simpler.\n",
    "\n",
    "If the file uses **another field delimiter** (eg, `';'`), you can specify it when creating the DictReader : \n",
    "```python\n",
    "reader = csv.DictReader( readingHandle , delimiter=';')\n",
    "```\n",
    "\n",
    "Additionally, libraries dedicated to data analysis often have functions that read directly from a csv file and create their specific data structure.\n",
    "\n",
    "For instance, for `pandas` (that's a sneak-peak into day3 modules ;-) )"
   ]
  },
  {
   "cell_type": "code",
   "execution_count": null,
   "metadata": {},
   "outputs": [],
   "source": [
    "import pandas as pd  # ignore this, we'll talk about it in the next notebook.\n",
    "\n",
    "# Reading the csv file as a pandas.DataFrame, their custom type for tabular data.\n",
    "df = pd.read_csv(\"data/titanic_head.csv\") \n",
    "df"
   ]
  },
  {
   "cell_type": "markdown",
   "metadata": {},
   "source": [
    "<br>\n",
    "\n",
    "### Opening files without context managers  <a id='6.3'></a>\n",
    "\n",
    "Rather than creating a specific block using a `with` statement, you can `open()` a file directly:"
   ]
  },
  {
   "cell_type": "code",
   "execution_count": null,
   "metadata": {},
   "outputs": [],
   "source": [
    "fileHandle = open(\"data/fresh_fruits.txt\", \"r\")\n",
    "for i, line in enumerate(fileHandle):\n",
    "    print(\"line\", i, \":\", line.strip())\n",
    "        \n",
    "# don't forget to close the file!\n",
    "fileHandle.close()"
   ]
  },
  {
   "cell_type": "markdown",
   "metadata": {},
   "source": [
    "**Don't forget the close it!** (usually the `with` takes care of that for you)"
   ]
  },
  {
   "cell_type": "markdown",
   "metadata": {},
   "source": [
    "<br>\n",
    "\n",
    "### Reading files using a while loop  <a id='6.4'></a>\n",
    "\n",
    "Here is an example of file reading where, instead of a for loop, we use a while loop and `.readine()`."
   ]
  },
  {
   "cell_type": "code",
   "execution_count": null,
   "metadata": {},
   "outputs": [],
   "source": [
    "reading_handle = open(\"data/fresh_fruits.txt\", \"r\")\n",
    "i = 0\n",
    "line = reading_handle.readline()\n",
    "\n",
    "# When the file has been entirely read, readline() returns an empty string and the while loop will end.\n",
    "# In python a non-empty string evaluates to \"True\", and therefore we can use \"while line\" as a shortcut \n",
    "# for \"while line != '' \".\n",
    "while line:\n",
    "    print(\"line\", i, \":\", line.strip())    # Note: we use the \"strip()\" method of \"str\" to remove the \n",
    "                                           # trailing \"\\n\" (carriage return) of each line.\n",
    "    line = reading_handle.readline()       # Don't forget this or you will have an infinite loop.\n",
    "    i += 1\n",
    "    \n",
    "reading_handle.close()"
   ]
  },
  {
   "cell_type": "markdown",
   "metadata": {},
   "source": [
    "<br>\n",
    "\n",
    "### The walrus operator: a new syntax for Python >= 3.8  <a id='6.5'></a>\n",
    "\n",
    "Starting with Python 3.8, a new operator **`:=`** (a.k.a, the **walrus operator**) allows to do a variable assignment (`line` in the example below), while at the same time evaluating an expression.\n",
    "\n",
    "This can be used when reading a file to reduce the number of lines of code, as shown below:"
   ]
  },
  {
   "cell_type": "code",
   "execution_count": null,
   "metadata": {
    "scrolled": true
   },
   "outputs": [],
   "source": [
    "with open(\"data/fresh_fruits.txt\", \"r\") as f:\n",
    "    i = 0\n",
    "    while (line := f.readline()):             # := assigns values to variables as part of a larger expression. \n",
    "        print(\"line\", i, \":\", line.strip())   # It is known as the \"walrus operator” and it works really well\n",
    "        i += 1                                # together with the while-loop\n"
   ]
  },
  {
   "cell_type": "markdown",
   "metadata": {},
   "source": [
    "<br>\n",
    "\n",
    "[Back to ToC](#toc)"
   ]
  }
 ],
 "metadata": {
  "kernelspec": {
   "display_name": "Python 3 (ipykernel)",
   "language": "python",
   "name": "python3"
  },
  "language_info": {
   "codemirror_mode": {
    "name": "ipython",
    "version": 3
   },
   "file_extension": ".py",
   "mimetype": "text/x-python",
   "name": "python",
   "nbconvert_exporter": "python",
   "pygments_lexer": "ipython3",
   "version": "3.10.12"
  }
 },
 "nbformat": 4,
 "nbformat_minor": 4
}
