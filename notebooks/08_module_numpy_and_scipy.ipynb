{
 "cells": [
  {
   "cell_type": "markdown",
   "metadata": {},
   "source": [
    "# Table of Content <a id='toc'></a>\n",
    "\n",
    "\n",
    "&nbsp;&nbsp;&nbsp;&nbsp;[Module 8 - NumPy and SciPy: introduction to statistics in python](#0)\n",
    "\n",
    "&nbsp;&nbsp;&nbsp;&nbsp;&nbsp;&nbsp;&nbsp;&nbsp;[Why NumPy?](#1)\n",
    "\n",
    "&nbsp;&nbsp;&nbsp;&nbsp;&nbsp;&nbsp;&nbsp;&nbsp;[How to start?](#2)\n",
    "\n",
    "&nbsp;&nbsp;&nbsp;&nbsp;&nbsp;&nbsp;&nbsp;&nbsp;[The heart of NumPy: array](#3)\n",
    "\n",
    "&nbsp;&nbsp;&nbsp;&nbsp;&nbsp;&nbsp;&nbsp;&nbsp;[Creating NumPy arrays](#4)\n",
    "\n",
    "&nbsp;&nbsp;&nbsp;&nbsp;&nbsp;&nbsp;&nbsp;&nbsp;[Accessing data in an NumPy arrays](#5)\n",
    "\n",
    "&nbsp;&nbsp;&nbsp;&nbsp;&nbsp;&nbsp;&nbsp;&nbsp;[Iterating through the numpy arrays](#6)\n",
    "\n",
    "&nbsp;&nbsp;&nbsp;&nbsp;&nbsp;&nbsp;&nbsp;&nbsp;[Modifying array values](#7)\n",
    "\n",
    "&nbsp;&nbsp;&nbsp;&nbsp;&nbsp;&nbsp;&nbsp;&nbsp;[To copy or not to copy?](#8)\n",
    "\n",
    "&nbsp;&nbsp;&nbsp;&nbsp;&nbsp;&nbsp;&nbsp;&nbsp;[Functions](#9)\n",
    "\n",
    "&nbsp;&nbsp;&nbsp;&nbsp;&nbsp;&nbsp;&nbsp;&nbsp;[Random numbers in NumPy](#10)\n",
    "\n",
    "&nbsp;&nbsp;&nbsp;&nbsp;&nbsp;&nbsp;&nbsp;&nbsp;[Linear algebra built-in capabilities](#11)\n",
    "\n",
    "&nbsp;&nbsp;&nbsp;&nbsp;[SciPy.stats and statistics in python](#12)\n",
    "\n",
    "&nbsp;&nbsp;&nbsp;&nbsp;&nbsp;&nbsp;&nbsp;&nbsp;[manipulation of random distributions](#13)\n",
    "\n",
    "&nbsp;&nbsp;&nbsp;&nbsp;&nbsp;&nbsp;&nbsp;&nbsp;[Statistical tests](#14)\n",
    "\n",
    "&nbsp;&nbsp;&nbsp;&nbsp;[Exercise](#15)"
   ]
  },
  {
   "cell_type": "markdown",
   "metadata": {},
   "source": [
    "\n",
    "[back to the toc](#toc)\n",
    "\n",
    "<br>\n",
    "\n",
    "# Module 8 - NumPy and SciPy: introduction to statistics in python <a id='0'></a>\n",
    "--------------------------------------------------------------------------------------------------\n",
    "\n",
    "[NumPy](www.numpy.org) is the fundamental package for scientific computing with Python.\n",
    "\n",
    "The **highlights** of NumPy are:\n",
    "* A powerful N-dimensional array object\n",
    "* Efficient, broadcasting functions\n",
    "* Tools for integrating C/C++ and Fortran code\n",
    "* Useful linear algebra, Fourier transform, and random number capabilities\n"
   ]
  },
  {
   "cell_type": "markdown",
   "metadata": {},
   "source": [
    "\n",
    "[back to the toc](#toc)\n",
    "\n",
    "<br>\n",
    "\n",
    "## Why NumPy? <a id='1'></a>\n",
    "\n",
    "* NumPy arrays is faster than standard python lists\n",
    "* NumPy functions allows to write many operations with much less code\n",
    "* NumPy functions are faster than naive Python implementation\n",
    "* Great collection of mathematical functions available (numpy, scipy, sympy)"
   ]
  },
  {
   "cell_type": "markdown",
   "metadata": {},
   "source": [
    "\n",
    "[back to the toc](#toc)\n",
    "\n",
    "<br>\n",
    "\n",
    "## How to start? <a id='2'></a>\n"
   ]
  },
  {
   "cell_type": "code",
   "execution_count": null,
   "metadata": {},
   "outputs": [],
   "source": [
    "# loading numpy module\n",
    "import numpy as np"
   ]
  },
  {
   "cell_type": "markdown",
   "metadata": {},
   "source": [
    "<br>\n",
    "\n",
    "\n",
    "[back to the toc](#toc)\n",
    "\n",
    "<br>\n",
    "\n",
    "## The heart of NumPy: array <a id='3'></a>\n",
    "\n",
    "NumPy's main object is the **homogeneous** multidimensional array.\n",
    "\n",
    "Arrays are very efficient for operations with large numerical data and in general outperform standard Python lists."
   ]
  },
  {
   "cell_type": "code",
   "execution_count": null,
   "metadata": {},
   "outputs": [],
   "source": [
    "my_array = np.array([[1.,2.,3.],[4.,5.,6.]])\n",
    "print(\"my_array:\\n\", my_array)\n",
    "print(\"my_array dimentions:\", my_array.shape)\n",
    "print(\"my_array number of elements:\", my_array.size)\n",
    "print(\"my_array type of elements\", my_array.dtype)"
   ]
  },
  {
   "cell_type": "markdown",
   "metadata": {},
   "source": [
    "One great functionnality of numpy arrays is that it is painfully easy to perform an operation over the entirety of the elements in the array :"
   ]
  },
  {
   "cell_type": "code",
   "execution_count": null,
   "metadata": {},
   "outputs": [],
   "source": [
    "my_result =  my_array * 3 # multiply by 3 all elements in the array\n",
    "\n",
    "#compare with a native python equivalent :\n",
    "my_list=[[1.,2.,3.],[4.,5.,6.]]\n",
    "my_result2 = [[0,0,0],[0,0,0]]\n",
    "for i  in range(len(my_list)):\n",
    "    for j in range(len(my_list[i])):\n",
    "        my_result2[i][j] = my_list[i][j] * 3\n",
    "        "
   ]
  },
  {
   "cell_type": "markdown",
   "metadata": {},
   "source": [
    "Numpy is also able to make the most out of the constraint of homogeneity in the array data to provide amazing speed-ups :"
   ]
  },
  {
   "cell_type": "code",
   "execution_count": null,
   "metadata": {},
   "outputs": [],
   "source": [
    "from time import time\n",
    "native_data = [x for x in range(10**7)]\n",
    "numpy_data = np.array(native_data)\n",
    "\n",
    "t0 = time()\n",
    "numpy_data *= 3\n",
    "t1 = time()\n",
    "numpyTime = t1-t0\n",
    "\n",
    "t0 = time()\n",
    "native_data = [ x*3 for x in native_data ]\n",
    "t1 = time()\n",
    "nativeTime = t1-t0\n",
    "\n",
    "print(\"native timing :\",nativeTime)\n",
    "print(\"numpy timing :\",numpyTime)\n",
    "print(\"numpy acceleration factor :\" , nativeTime / numpyTime )"
   ]
  },
  {
   "cell_type": "markdown",
   "metadata": {},
   "source": [
    "So, let's familiarize ourselves with the numpy array."
   ]
  },
  {
   "cell_type": "markdown",
   "metadata": {},
   "source": [
    "<br>\n",
    "\n",
    "\n",
    "[back to the toc](#toc)\n",
    "\n",
    "<br>\n",
    "\n",
    "## Creating NumPy arrays <a id='4'></a>\n"
   ]
  },
  {
   "cell_type": "markdown",
   "metadata": {},
   "source": [
    "### Creating arrays from lists"
   ]
  },
  {
   "cell_type": "code",
   "execution_count": null,
   "metadata": {},
   "outputs": [],
   "source": [
    "# one dimentional array\n",
    "my_array = np.array([1,2,3])\n",
    "print(\"my_array:\", type(my_array), my_array)"
   ]
  },
  {
   "cell_type": "code",
   "execution_count": null,
   "metadata": {},
   "outputs": [],
   "source": [
    "# two dimentional array\n",
    "my_array = np.array([[1,2,3],[4,5,6]])\n",
    "print(\"my_array:\", type(my_array))\n",
    "print(my_array)"
   ]
  },
  {
   "cell_type": "markdown",
   "metadata": {},
   "source": [
    "### Creating arrays with functions"
   ]
  },
  {
   "cell_type": "code",
   "execution_count": null,
   "metadata": {},
   "outputs": [],
   "source": [
    "# array filled with zeroes\n",
    "my_array = np.zeros((3,5)) # ( number of rows , number of columns )\n",
    "print(my_array)"
   ]
  },
  {
   "cell_type": "code",
   "execution_count": null,
   "metadata": {},
   "outputs": [],
   "source": [
    "# array filled with ones\n",
    "my_array = np.ones((4,2))\n",
    "print(my_array)"
   ]
  },
  {
   "cell_type": "code",
   "execution_count": null,
   "metadata": {},
   "outputs": [],
   "source": [
    "# array filled with desired number\n",
    "my_array = np.full((2,3), 42)\n",
    "print(my_array)"
   ]
  },
  {
   "cell_type": "code",
   "execution_count": null,
   "metadata": {},
   "outputs": [],
   "source": [
    "## identity matrix\n",
    "my_array = np.eye(4,4,0) \n",
    "# the first 2 arguments give the matrix dimensions and the 3rd argument specify where the main diagnoal will be\n",
    "print(my_array)"
   ]
  },
  {
   "cell_type": "code",
   "execution_count": null,
   "metadata": {},
   "outputs": [],
   "source": [
    "my_array = np.random.rand(2,2) # random numbers from a uniform distribution between 0.0 and 1.0\n",
    "print(my_array)"
   ]
  },
  {
   "cell_type": "markdown",
   "metadata": {},
   "source": [
    "### Arange function\n",
    "\n",
    "Generate one-dimentional array of evenly spaced numbers."
   ]
  },
  {
   "cell_type": "code",
   "execution_count": null,
   "metadata": {},
   "outputs": [],
   "source": [
    "my_array = np.arange(6)\n",
    "print(my_array)"
   ]
  },
  {
   "cell_type": "code",
   "execution_count": null,
   "metadata": {},
   "outputs": [],
   "source": [
    "# support float start/end points, as well as float steps\n",
    "my_array = np.arange(1.1, 6 , 1.1) #start , stop , step\n",
    "print(my_array)"
   ]
  },
  {
   "cell_type": "markdown",
   "metadata": {},
   "source": [
    "### Array reshaping\n",
    "\n",
    "**numpy.reshape** changes the shape of an array without changing its data"
   ]
  },
  {
   "cell_type": "code",
   "execution_count": null,
   "metadata": {},
   "outputs": [],
   "source": [
    "# 1D array\n",
    "my_array = np.arange(1.1, 6, 0.7)\n",
    "print(my_array)"
   ]
  },
  {
   "cell_type": "code",
   "execution_count": null,
   "metadata": {},
   "outputs": [],
   "source": [
    "# 2D array\n",
    "print(np.reshape(my_array, (2,4)))"
   ]
  },
  {
   "cell_type": "code",
   "execution_count": null,
   "metadata": {},
   "outputs": [],
   "source": [
    "# 3D array\n",
    "print(np.reshape(my_array, (2,2,2), order=\"C\"))\n"
   ]
  },
  {
   "cell_type": "markdown",
   "metadata": {},
   "source": [
    "### Reading arrays from files"
   ]
  },
  {
   "cell_type": "markdown",
   "metadata": {},
   "source": [
    "**numpy.loadtxt**(fname, dtype=&lt;type float>, comments='#', delimiter=None, converters=None, skiprows=0, usecols=None, unpack=False, ndmin=0)"
   ]
  },
  {
   "cell_type": "code",
   "execution_count": null,
   "metadata": {
    "scrolled": true
   },
   "outputs": [],
   "source": [
    "!cat data/test.tab"
   ]
  },
  {
   "cell_type": "code",
   "execution_count": null,
   "metadata": {},
   "outputs": [],
   "source": [
    "my_array = np.loadtxt(\"data/test.tab\",  dtype= np.str,delimiter=\" \")\n",
    "print(my_array)"
   ]
  },
  {
   "cell_type": "markdown",
   "metadata": {},
   "source": [
    " * There is a more sophisticated function for handling files with complex formating : **numpy.genfromtxt**.\n",
    " * For complex cases, the use of other libraries or custom parsers is required."
   ]
  },
  {
   "cell_type": "markdown",
   "metadata": {},
   "source": [
    "### Writing an array to a file"
   ]
  },
  {
   "cell_type": "markdown",
   "metadata": {},
   "source": [
    "**numpy.savetxt**(fname, X, fmt='%.18e', delimiter=' ', newline='\\n', header='', footer='', comments='# ')"
   ]
  },
  {
   "cell_type": "code",
   "execution_count": null,
   "metadata": {},
   "outputs": [],
   "source": [
    "my_array = np.array([[1,2,3], [4,5,6]])\n",
    "np.savetxt(\"test_out.tab\", my_array, fmt=\"%d\", delimiter=\"\\t\",\n",
    "           header=\"# my sample\\n#test\", comments=\"\")"
   ]
  },
  {
   "cell_type": "code",
   "execution_count": null,
   "metadata": {},
   "outputs": [],
   "source": [
    "!cat test_out.tab"
   ]
  },
  {
   "cell_type": "markdown",
   "metadata": {},
   "source": [
    "<br>\n",
    "\n",
    "\n",
    "[back to the toc](#toc)\n",
    "\n",
    "<br>\n",
    "\n",
    "## Accessing data in an NumPy arrays <a id='5'></a>\n",
    "\n",
    "### Indexing"
   ]
  },
  {
   "cell_type": "markdown",
   "metadata": {
    "collapsed": true
   },
   "source": [
    "* One-dimensional arrays are accessed the same way as standard lists in python\n",
    "* Multi-dimensional arrays are accessed by indices along every axis. These indices are separated by comas and given in square brackets"
   ]
  },
  {
   "cell_type": "code",
   "execution_count": null,
   "metadata": {
    "scrolled": true
   },
   "outputs": [],
   "source": [
    "my_array = np.arange(1., 10.).reshape((3,3))\n",
    "print(my_array)"
   ]
  },
  {
   "cell_type": "code",
   "execution_count": null,
   "metadata": {},
   "outputs": [],
   "source": [
    "# accessing a single element in standard way\n",
    "print(my_array[1][0])\n",
    "# accessing a row  in the standard way\n",
    "print(\"row:\", my_array[1])"
   ]
  },
  {
   "cell_type": "markdown",
   "metadata": {},
   "source": [
    "In NumPy indices are given in square brackets and separated by coma."
   ]
  },
  {
   "cell_type": "code",
   "execution_count": null,
   "metadata": {
    "scrolled": true
   },
   "outputs": [],
   "source": [
    "# accessing a single element in numpy way\n",
    "print(my_array[1,0])"
   ]
  },
  {
   "cell_type": "markdown",
   "metadata": {},
   "source": [
    "### Slicing\n",
    "\n",
    "Accessing a subset of an array."
   ]
  },
  {
   "cell_type": "code",
   "execution_count": null,
   "metadata": {},
   "outputs": [],
   "source": [
    "print(my_array)"
   ]
  },
  {
   "cell_type": "code",
   "execution_count": null,
   "metadata": {},
   "outputs": [],
   "source": [
    "# accessing a row\n",
    "print(my_array[1,:])"
   ]
  },
  {
   "cell_type": "code",
   "execution_count": null,
   "metadata": {},
   "outputs": [],
   "source": [
    "# accessing a column\n",
    "print(my_array[:, 2])"
   ]
  },
  {
   "cell_type": "code",
   "execution_count": null,
   "metadata": {},
   "outputs": [],
   "source": [
    "# accessing a subset\n",
    "print(my_array[1:,:2])"
   ]
  },
  {
   "cell_type": "code",
   "execution_count": null,
   "metadata": {
    "scrolled": true
   },
   "outputs": [],
   "source": [
    "# accessing a subset\n",
    "print(my_array[[0,2],:])"
   ]
  },
  {
   "cell_type": "markdown",
   "metadata": {},
   "source": [
    "The `start:stop:step` notation can also be used when accessing array elements"
   ]
  },
  {
   "cell_type": "code",
   "execution_count": null,
   "metadata": {},
   "outputs": [],
   "source": [
    "my_array = np.arange(1., 21.).reshape((4,5))\n",
    "print(my_array)\n",
    "# accessing a subset with step argument\n",
    "print(\"subset:\\n\", my_array[:,0::2])"
   ]
  },
  {
   "cell_type": "markdown",
   "metadata": {},
   "source": [
    "### Comparison operations"
   ]
  },
  {
   "cell_type": "code",
   "execution_count": null,
   "metadata": {},
   "outputs": [],
   "source": [
    "# comparison operators return array of boolean values\n",
    "my_array = np.arange(1., 10.).reshape((3,3))\n",
    "print(\"my_array:\\n\", my_array)\n",
    "print(\"my_array > 5:\\n\", my_array > 5)"
   ]
  },
  {
   "cell_type": "code",
   "execution_count": null,
   "metadata": {},
   "outputs": [],
   "source": [
    "# evaluation of boolean arrays\n",
    "results = my_array > 5\n",
    "print(\"All values in my_array are greater than 5:\", results.all()) \n",
    "print(\"There is at least one value in my_array greater than 5:\",\n",
    "      results.any()) "
   ]
  },
  {
   "cell_type": "code",
   "execution_count": null,
   "metadata": {},
   "outputs": [],
   "source": [
    "# extracting values with boolen arrays\n",
    "print(\"Values which are greater than 5:\", my_array[my_array > 5])"
   ]
  },
  {
   "cell_type": "markdown",
   "metadata": {},
   "source": [
    "\n",
    "[back to the toc](#toc)\n",
    "\n",
    "<br>\n",
    "\n",
    "## Iterating through the numpy arrays <a id='6'></a>\n"
   ]
  },
  {
   "cell_type": "code",
   "execution_count": null,
   "metadata": {},
   "outputs": [],
   "source": [
    "# standard for loop iterates over rows\n",
    "for x in my_array:\n",
    "    print(x)"
   ]
  },
  {
   "cell_type": "code",
   "execution_count": null,
   "metadata": {},
   "outputs": [],
   "source": [
    "# iterating over all elements in standard way\n",
    "for x in my_array:\n",
    "    for y in x:\n",
    "        print(y, \" \",end=\"\")\n",
    "    print()"
   ]
  },
  {
   "cell_type": "code",
   "execution_count": null,
   "metadata": {
    "scrolled": true
   },
   "outputs": [],
   "source": [
    "# iterating over all elements in numpy way\n",
    "for x in np.nditer(my_array):\n",
    "    print(x, \" \", end=\"\")"
   ]
  },
  {
   "cell_type": "markdown",
   "metadata": {},
   "source": [
    "<br>\n",
    "\n",
    "\n",
    "[back to the toc](#toc)\n",
    "\n",
    "<br>\n",
    "\n",
    "## Modifying array values <a id='7'></a>\n"
   ]
  },
  {
   "cell_type": "markdown",
   "metadata": {},
   "source": [
    "### Assignment"
   ]
  },
  {
   "cell_type": "code",
   "execution_count": null,
   "metadata": {},
   "outputs": [],
   "source": [
    "# changing one element\n",
    "my_array = np.arange(1,5).reshape((2,2))\n",
    "print(my_array)\n",
    "my_array[0,1] = 5\n",
    "print(\"After changing one element:\\n\", my_array)"
   ]
  },
  {
   "cell_type": "code",
   "execution_count": null,
   "metadata": {},
   "outputs": [],
   "source": [
    "# changing rows and columns\n",
    "my_array = np.arange(1,5).reshape((2,2))\n",
    "print(my_array)\n",
    "my_array[0,:] = np.array([5,6])\n",
    "print(\"After changing one row:\\n\", my_array)\n",
    "my_array[:,1] = np.array([7,8])\n",
    "print(\"After changing one column:\\n\", my_array)"
   ]
  },
  {
   "cell_type": "markdown",
   "metadata": {},
   "source": [
    "### Adding rows and columns to an existing array"
   ]
  },
  {
   "cell_type": "code",
   "execution_count": null,
   "metadata": {},
   "outputs": [],
   "source": [
    "# appending\n",
    "my_array = np.arange(0,6).reshape((2,3))\n",
    "print(my_array)\n",
    "# append column\n",
    "my_array = np.append(my_array, np.array([6, 7]).reshape(2,1), axis=1) # 0 : row , 1: column\n",
    "print(\"after column adding\\n\", my_array)"
   ]
  },
  {
   "cell_type": "code",
   "execution_count": null,
   "metadata": {},
   "outputs": [],
   "source": [
    "# insertion\n",
    "my_array = np.arange(0,6).reshape((2,3))\n",
    "print(my_array)\n",
    "# insert row\n",
    "my_array = np.insert(my_array, 1, [[6, 7, 8]], axis=0)\n",
    "print(\"after row insertion\\n\", my_array)\n"
   ]
  },
  {
   "cell_type": "code",
   "execution_count": null,
   "metadata": {},
   "outputs": [],
   "source": [
    "# concatenation\n",
    "my_array = np.arange(0,6).reshape((2,3))\n",
    "my_array2 = np.arange(6,12).reshape((2,3))\n",
    "print(\"row concatenation:\\n\", np.concatenate((my_array, my_array2),\n",
    "                                             axis=0))\n",
    "print(\"column concatenation:\\n\", np.concatenate((my_array, my_array2),\n",
    "                                                axis=1))"
   ]
  },
  {
   "cell_type": "markdown",
   "metadata": {},
   "source": [
    "\n",
    "[back to the toc](#toc)\n",
    "\n",
    "<br>\n",
    "\n",
    "## To copy or not to copy? <a id='8'></a>\n",
    "When operating and manipulating arrays, their data is sometimes copied into a new array and sometimes not. This is often a source of confusion for beginners."
   ]
  },
  {
   "cell_type": "code",
   "execution_count": null,
   "metadata": {},
   "outputs": [],
   "source": [
    "my_array = np.arange(1., 21.).reshape((4,5))\n",
    "print(my_array)\n",
    "tmp = my_array\n",
    "print(\"tmp is my_array\", tmp is my_array)\n",
    "tmp[1,1] = 999\n",
    "print(\"my array after we changed tmp:\\n\", my_array) \n",
    "# the change is tmp is present in my_array, because they are the same object"
   ]
  },
  {
   "cell_type": "code",
   "execution_count": null,
   "metadata": {},
   "outputs": [],
   "source": [
    "my_array = np.arange(1., 21.).reshape((4,5))\n",
    "print(my_array)\n",
    "tmp = my_array[1:3,1:3]\n",
    "print(\"tmp is my_array\", tmp is my_array)\n",
    "print(\"tmp:\\n\", tmp)\n",
    "tmp[1,1] = 999\n",
    "print(\"my_array after we changed tmp:\\n\", my_array)\n",
    "# tmp is not my_array, but the change in one is reported in the other"
   ]
  },
  {
   "cell_type": "markdown",
   "metadata": {},
   "source": [
    "> This behavior may appear strange, but it is because numpy arrays access their data by reference. And thus multiple array may access the same memory space, or subset of the same memory space \n",
    "> See <insert Bulak slides on references>"
   ]
  },
  {
   "cell_type": "markdown",
   "metadata": {},
   "source": [
    "### If you plan to change array values but want to keep the old array untouched, then make copy of it!"
   ]
  },
  {
   "cell_type": "code",
   "execution_count": null,
   "metadata": {},
   "outputs": [],
   "source": [
    "my_array = np.arange(1., 21.).reshape((4,5))\n",
    "print(my_array)\n",
    "tmp = my_array.copy()\n",
    "print(\"tmp is my_array\", tmp is my_array)\n",
    "tmp[1,1] = 999\n",
    "print(\"my array after we changed tmp:\\n\", my_array)\n",
    "print(\"tmp array after change:\\n\", tmp)"
   ]
  },
  {
   "cell_type": "markdown",
   "metadata": {},
   "source": [
    "\n",
    "[back to the toc](#toc)\n",
    "\n",
    "<br>\n",
    "\n",
    "## Functions <a id='9'></a>\n",
    "\n",
    "Numpy provide and great number of functions. The power of numpy functions are speed and possibility to apply it arrays element-wise, column-wise or row-wise."
   ]
  },
  {
   "cell_type": "markdown",
   "metadata": {},
   "source": [
    "### Element-wise functions\n",
    "This includes all basic math operators like <span style=\"font-size: 1.5em;\">+, -, /, \\*, //, \\*\\*</span>"
   ]
  },
  {
   "cell_type": "code",
   "execution_count": null,
   "metadata": {
    "scrolled": false
   },
   "outputs": [],
   "source": [
    "# element-wise operation with scalars\n",
    "my_array = np.arange(1., 7.).reshape((2,3))\n",
    "print(my_array)\n",
    "print(\"division\")\n",
    "print(my_array/2)\n",
    "print(\"sum\")\n",
    "print(my_array + 10)\n",
    "# element-wise functions\n",
    "print(\"power of 2\")\n",
    "print(my_array**2)\n",
    "print(\"log2\")\n",
    "print(np.log2(my_array))"
   ]
  },
  {
   "cell_type": "markdown",
   "metadata": {},
   "source": [
    "### Sum, division ... of arrays"
   ]
  },
  {
   "cell_type": "code",
   "execution_count": null,
   "metadata": {},
   "outputs": [],
   "source": [
    "# element-wise operation with arrays\n",
    "my_array = np.arange(1., 7.).reshape((2,3))\n",
    "print(my_array)\n",
    "print(\"division\")\n",
    "print(my_array / my_array)\n",
    "print(\"sum\")\n",
    "print(my_array + my_array)"
   ]
  },
  {
   "cell_type": "markdown",
   "metadata": {},
   "source": [
    "### Element-wise, row-wise, column-wise functions"
   ]
  },
  {
   "cell_type": "code",
   "execution_count": null,
   "metadata": {},
   "outputs": [],
   "source": [
    "# sum\n",
    "print(\"element-wise sum:\", np.sum(my_array))\n",
    "print(\"sum of columns:\", np.sum(my_array, axis=0))\n",
    "print(\"sum of rows:\", np.sum(my_array, axis=1))"
   ]
  },
  {
   "cell_type": "code",
   "execution_count": null,
   "metadata": {},
   "outputs": [],
   "source": [
    "# standard deviation\n",
    "print(\"std of the whole array:\", np.std(my_array))\n",
    "print(\"std of columns:\", np.std(my_array, axis=0))\n",
    "print(\"std of rows:\", np.std(my_array, axis=1))"
   ]
  },
  {
   "cell_type": "code",
   "execution_count": null,
   "metadata": {
    "scrolled": true
   },
   "outputs": [],
   "source": [
    "# mean function\n",
    "print(\"mean of the whole array:\", np.mean(my_array))\n",
    "print(\"mean of columns:\", np.mean(my_array, axis=0))\n",
    "print(\"mean of rows:\", np.mean(my_array, axis=1))"
   ]
  },
  {
   "cell_type": "markdown",
   "metadata": {},
   "source": [
    "\n",
    "[back to the toc](#toc)\n",
    "\n",
    "<br>\n",
    "\n",
    "## Random numbers in NumPy <a id='10'></a>\n",
    "\n",
    "The numpy.random mudule provides a large collection of distributions (uniform, normal, beta, binomial, gamma, poisson ...) to draw from."
   ]
  },
  {
   "cell_type": "code",
   "execution_count": null,
   "metadata": {
    "scrolled": true
   },
   "outputs": [],
   "source": [
    "# random numbers from uniform distribution [0,1)\n",
    "print(\"single number:\", np.random.rand())\n",
    "print(\"array of random numbers:\\n\", np.random.rand(2,3))"
   ]
  },
  {
   "cell_type": "code",
   "execution_count": null,
   "metadata": {},
   "outputs": [],
   "source": [
    "# random numbers from normal distribution\n",
    "my_array = np.random.randn(100000)\n",
    "print(\"array of random numbers.\\n\", \"mean :\", np.mean(my_array) , \"\\tstandard deviation :\" , np.std(my_array) )"
   ]
  },
  {
   "cell_type": "code",
   "execution_count": null,
   "metadata": {},
   "outputs": [],
   "source": [
    "# permutation and sampling\n",
    "my_array = np.arange(7)\n",
    "print(\"array permutation:\\n\", np.random.permutation(my_array))\n",
    "print(\"sample from the array:\\n\", np.random.choice(my_array,\n",
    "                                                   size=3,\n",
    "                                                   replace=True))"
   ]
  },
  {
   "cell_type": "markdown",
   "metadata": {},
   "source": [
    "\n",
    "[back to the toc](#toc)\n",
    "\n",
    "<br>\n",
    "\n",
    "## Linear algebra built-in capabilities <a id='11'></a>\n",
    "NumPy arrays could be used as matrices without any special conversion.\n",
    "For advanced linear algebra operations there is spacial package for it (**numpy.linalg**)"
   ]
  },
  {
   "cell_type": "code",
   "execution_count": null,
   "metadata": {},
   "outputs": [],
   "source": [
    "my_array = np.arange(1., 7.).reshape((2,3))\n",
    "print(my_array)"
   ]
  },
  {
   "cell_type": "code",
   "execution_count": null,
   "metadata": {},
   "outputs": [],
   "source": [
    "# Transpose of a matrix\n",
    "print(\"transposed matrix:\\n\", my_array.T)"
   ]
  },
  {
   "cell_type": "markdown",
   "metadata": {},
   "source": [
    "#### There are different types of matrix multiplication!!!"
   ]
  },
  {
   "cell_type": "code",
   "execution_count": null,
   "metadata": {},
   "outputs": [],
   "source": [
    "# matrix multiplication element-wise\n",
    "print(my_array * my_array)"
   ]
  },
  {
   "cell_type": "code",
   "execution_count": null,
   "metadata": {
    "scrolled": true
   },
   "outputs": [],
   "source": [
    "# matrix product\n",
    "print(my_array.dot(my_array.T)) \n",
    "# one can also use the @ operator :\n",
    "print(my_array @ my_array.T) "
   ]
  },
  {
   "cell_type": "markdown",
   "metadata": {},
   "source": [
    "<br>\n",
    "\n",
    "\n",
    "[back to the toc](#toc)\n",
    "\n",
    "<br>\n",
    "\n",
    "# SciPy.stats and statistics in python <a id='12'></a>\n",
    "\n",
    "\n",
    "SciPy references a comprehensive [project for scientific python programming](https://scipy.org) regrouping as well  as a [library](https://docs.scipy.org/doc/scipy/reference/) (which is part of the project) implementing various tools and algorithm for scientific software.\n",
    "\n",
    "Here we will give a few pointers on the `scipy.stats` library, which provides ways to interact with various random distribution functions, as well as implement numerous statistical tests.\n"
   ]
  },
  {
   "cell_type": "markdown",
   "metadata": {},
   "source": [
    "\n",
    "[back to the toc](#toc)\n",
    "\n",
    "<br>\n",
    "\n",
    "## manipulation of random distributions <a id='13'></a>\n",
    "\n",
    "scipy.stats implements utilisties for a large number of continuous and discrete distributions :"
   ]
  },
  {
   "cell_type": "code",
   "execution_count": null,
   "metadata": {},
   "outputs": [],
   "source": [
    "from scipy import stats\n",
    "\n",
    "dist_continu = [d for d in dir(stats) if isinstance(getattr(stats, d), stats.rv_continuous)]\n",
    "dist_discrete = [d for d in dir(stats) if isinstance(getattr(stats, d), stats.rv_discrete)]\n",
    "print('number of continuous distributions: %d' % len(dist_continu))\n",
    "print('number of discrete distributions:   %d' % len(dist_discrete))\n"
   ]
  },
  {
   "cell_type": "markdown",
   "metadata": {},
   "source": [
    "let's experiment with the normal distribution, or `norm` in `scipy.stats`\n",
    "\n",
    "\n",
    "A look at `help(stats.norm)` tells us that \n",
    "```\n",
    " |  The location (``loc``) keyword specifies the mean.\n",
    " |  The scale (``scale``) keyword specifies the standard deviation.\n",
    "```\n"
   ]
  },
  {
   "cell_type": "code",
   "execution_count": null,
   "metadata": {},
   "outputs": [],
   "source": [
    "## we can generate a specific normal distribution :\n",
    "N = stats.norm(loc = 10 , scale = 2)\n",
    "\n",
    "# the mean and variance of a distribution can be retrieved using the .stats method :\n",
    "print(N.stats())"
   ]
  },
  {
   "cell_type": "markdown",
   "metadata": {},
   "source": [
    "That object can then be used to interact with the distribution in many ways.\n",
    "\n",
    "\n",
    "### Drawing some random numbers : rvs"
   ]
  },
  {
   "cell_type": "code",
   "execution_count": null,
   "metadata": {},
   "outputs": [],
   "source": [
    "# draw some random number in this distribution : rvs\n",
    "# the size argument is 1 or several integers and defines the dimensions of the returned arrays of random numbers\n",
    "N.rvs(size = [5,5]) "
   ]
  },
  {
   "cell_type": "markdown",
   "metadata": {},
   "source": [
    "as with any drawing of random variable on a computer, [one merely emulates randomness](https://en.wikipedia.org/wiki/Pseudorandom_number_generator). This also means that one can make some random operation reproducible by setting up the random seed.\n",
    "\n"
   ]
  },
  {
   "cell_type": "code",
   "execution_count": null,
   "metadata": {},
   "outputs": [],
   "source": [
    "import numpy as np\n",
    "np.random.seed(2020) # we set the random seed\n",
    "draw1 = N.rvs(size=5)\n",
    "np.random.seed(2020) # we set the random seed back to 2020\n",
    "draw2 = N.rvs(size=5)\n",
    "print(\"Are the ramdom draws equal?\",draw1 == draw2)"
   ]
  },
  {
   "cell_type": "markdown",
   "metadata": {},
   "source": [
    "### Looking up the quantiles and probability density functions\n"
   ]
  },
  {
   "cell_type": "code",
   "execution_count": null,
   "metadata": {},
   "outputs": [],
   "source": [
    "#  pdf: Probability Density Function\n",
    "# I know this is not the plotting lesson, but here is a small recipe to plot the distribution\n",
    "import matplotlib.pyplot as plt \n",
    "X = np.arange(0,20,0.1)\n",
    "plt.plot( X , N.pdf(X) )\n",
    "plt.show()\n",
    "\n",
    "#    cdf: Cumulative Distribution Function\n",
    "print('what is the probability of drawing a number <=15.0 ?' ,  N.cdf(15.0)) \n",
    "\n",
    "\n",
    "#    ppf: Percent Point Function (Inverse of CDF) , gives the quantiles of the distribution\n",
    "P = [0.025,0.5,0.975]\n",
    "Q = N.ppf(P)\n",
    "print( 'quantiles:', P , '->' , Q )\n"
   ]
  },
  {
   "cell_type": "code",
   "execution_count": null,
   "metadata": {},
   "outputs": [],
   "source": [
    "# For discrete distribution these rules change a bit , the pdf function is replaced by pmf:\n",
    "X = np.arange(0,10)\n",
    "plt.scatter( X , stats.binom.pmf( X ,  n = 10 , p = 0.5 ) ) # binomial distribution with 10 draws and a 0.5 probability of success\n",
    "plt.show()"
   ]
  },
  {
   "cell_type": "markdown",
   "metadata": {},
   "source": [
    "\n",
    "[back to the toc](#toc)\n",
    "\n",
    "<br>\n",
    "\n",
    "## Statistical tests <a id='14'></a>\n",
    "\n",
    "`scipy.stats` implements a number of statistical tests as functions.\n",
    "\n",
    "Most return two values : the computed test statistic and the p-value.\n",
    "\n",
    "We will only demonstrate a couple tests here.\n",
    "You can get a more in-depth explaination and demonstration of scipy.stats tests [there](https://machinelearningmastery.com/statistical-hypothesis-tests-in-python-cheat-sheet/)\n",
    "\n"
   ]
  },
  {
   "cell_type": "code",
   "execution_count": null,
   "metadata": {},
   "outputs": [],
   "source": [
    "#Imagine we have two samples of measurement drawn from 2 sub-population :\n",
    "sample1 = stats.norm.rvs(size = 93 , loc = 173 , scale = 20)\n",
    "sample2 = stats.norm.rvs(size = 132 , loc = 181 , scale = 20)\n",
    "\n",
    "# we perform a t-test to test the equality of the means\n",
    "statistic , pValue = stats.ttest_ind(sample1 , sample2) \n",
    "significanceThreshold = 0.05\n",
    "if pValue < significanceThreshold:\n",
    "    print( \"We reject the hypothesis of equality of means(H0). p-value :\" , pValue )\n",
    "else:\n",
    "    print( \"We do not reject the hypothesis of equality of means(H0). p-value :\" , pValue )\n"
   ]
  },
  {
   "cell_type": "markdown",
   "metadata": {},
   "source": [
    "`stats.ttest_ind` has a `equal_var` parameter that one can set to `False` in order to perform Welsch's t-test, which is warranted when one cannot assume the two sub-population's variances to be equal.\n",
    "\n",
    "> In general, these functions have a very good documentation, detailing the tests and giving usage examples. We heartily recommend any would-be users to have a read at the `help()`."
   ]
  },
  {
   "cell_type": "code",
   "execution_count": null,
   "metadata": {},
   "outputs": [],
   "source": [
    "# Example of the Chi-Squared Test\n",
    "# imagine you count different cell types in two biopsies and report them in a list :\n",
    "biopsy1 = np.array([135 , 423 , 24 , 72])\n",
    "biopsy2 = [184 , 552 , 77 , 101]\n",
    "\n",
    "table = [biopsy1 , biopsy2]\n",
    "\n",
    "stat, pValue, degreeOfFreedom, expectedValues = stats.chi2_contingency(table)\n",
    "print('Chi-square test of independence of variables')\n",
    "print('stat=%.3f, degree of  freedom=%i , p-value=%.3f' % (stat, degreeOfFreedom,  pValue))\n",
    "# here the two biopsies seem to differ significatively in their composition\n"
   ]
  },
  {
   "cell_type": "markdown",
   "metadata": {},
   "source": [
    "### Statiscial modelling and regression\n",
    "\n",
    "`scipy` implements methods to fit a model to some data. \n",
    "\n",
    "`scipy.stats` proposes a simple linear regression function between two variable,\n",
    "while `scipy.optimize` implements functions to fit (non-linear) models to data."
   ]
  },
  {
   "cell_type": "code",
   "execution_count": null,
   "metadata": {},
   "outputs": [],
   "source": [
    "\n",
    "x = stats.uniform.rvs(size=30 , loc=0 , scale=100) # generating X\n",
    "y = 1.6*x  + stats.norm.rvs(size=30 , loc=0 , scale=50) # Y = 1.6 * X + some noise\n",
    "    \n",
    "# Perform the linear regression:\n",
    "    \n",
    "slope, intercept, r_value, p_value, std_err = stats.linregress(x, y)\n",
    "print(\"slope: %f    intercept: %f\" % (slope, intercept))\n",
    "print(\"R-squared: %f\" % r_value**2)\n",
    "print(\"p-value for the slope: %f\" % p_value)\n",
    "\n",
    "#   Plot the data along with the fitted line:\n",
    "    \n",
    "plt.plot(x, y, 'o', label='original data')\n",
    "plt.plot(x, intercept + slope*x, 'r', label='fitted line')\n",
    "plt.legend()\n",
    "plt.show()\n",
    "\n",
    "\n"
   ]
  },
  {
   "cell_type": "code",
   "execution_count": null,
   "metadata": {
    "scrolled": true
   },
   "outputs": [],
   "source": [
    "import matplotlib.pyplot as plt\n",
    "from scipy.optimize import curve_fit\n",
    "\n",
    "\n",
    "## example with 2 explanatory variables\n",
    "\n",
    "\n",
    "# we define the model as a function.\n",
    "# here it is a form of exponential decay model \n",
    "# where variable1 is the time and the rate of decay changes with variable2\n",
    "# the model function takes as argument the 2 explanatory variable (grouped in a single tuple), and the 4 parameters\n",
    "def func(X , a, b, c , d):\n",
    "    x0 , x1 = X\n",
    "    return a * np.exp( -(b + d*x1 ) * x0 ) + c \n",
    "\n",
    "#realParameter values\n",
    "realParams = [ 5, 0.2, 0.5,  0.1 ]\n",
    "\n",
    "# we simulate some data, with some noise\n",
    "n=50 # number of points\n",
    "variable1 = stats.uniform.rvs(size =n , loc = 0 , scale = 10 ) # explanatory variable number 1 : some uniform variable\n",
    "variable2 = stats.bernoulli.rvs(size=n , p=0.5) # explanatory variable number 2 : can be 0 or 1\n",
    "\n",
    "y = func( (variable1 , variable2) , realParams[0], realParams[1], realParams[2],  realParams[3])\n",
    "y_noise = stats.norm.rvs(size=n , scale = 0.4) \n",
    "ydata = y+y_noise\n",
    "\n",
    "\n",
    "popt, pcov = curve_fit(func, (variable1 , variable2), ydata)\n",
    "perr = np.sqrt(np.diag(pcov))\n",
    "print('parameter estimates          :',popt)\n",
    "print('parameter standard deviation :',perr)\n",
    "print('\\nrelative estimation error    :',np.abs(popt - realParams)/realParams )\n",
    "\n",
    "\n",
    "plt.scatter(variable1, ydata, c=variable2 , label='data')\n",
    "\n",
    "x = np.linspace(min(variable1) , max(variable1) , 100)\n",
    "plt.plot(x, func( ( x , np.zeros(100) )  , *popt), '--' ,  label='fit for variable2==0')\n",
    "plt.plot(x, func( ( x , np.ones(100) )  , *popt), '--' , label='fit for variable2==1')\n",
    "\n",
    "plt.xlabel('x')\n",
    "plt.ylabel('y')\n",
    "plt.legend()\n",
    "plt.show()\n",
    "\n"
   ]
  },
  {
   "cell_type": "markdown",
   "metadata": {},
   "source": [
    "> You can find most of what was discussed here and more in the [official tutorial](https://docs.scipy.org/doc/scipy/reference/tutorial/stats.html)"
   ]
  },
  {
   "cell_type": "markdown",
   "metadata": {},
   "source": [
    "\n",
    "[back to the toc](#toc)\n",
    "\n",
    "<br>\n",
    "\n",
    "# Exercise <a id='15'></a>\n"
   ]
  },
  {
   "cell_type": "markdown",
   "metadata": {},
   "source": [
    "1. Load the data in thefile \"sample_data.tsv\" as a numpy array\n",
    "2. Log-transform the data\n",
    "3. Find the row-wise means for replicates of Sample1 and Sample2\n",
    "4. Find the row-wise standard deviations the same way as means\n",
    "5. Use a function *scipy.stats.ttest_ind* to calculate p-value for every row\n",
    "6. Select p-values which are smaller than $10^{-2}$\n",
    "7. Print how many P-values below $10^{-2}$ are found"
   ]
  },
  {
   "cell_type": "code",
   "execution_count": null,
   "metadata": {},
   "outputs": [],
   "source": [
    "# use of ttest_ind function\n",
    "import scipy.stats as sps\n",
    "\n",
    "# two arrays of random numbers\n",
    "a = np.random.randn(3,5) * 3 + 15\n",
    "b = np.random.randn(3,8) * 2 + 5\n",
    "\n",
    "print(sps.ttest_ind(a, b, axis=1, equal_var=False).pvalue)"
   ]
  },
  {
   "cell_type": "code",
   "execution_count": null,
   "metadata": {
    "scrolled": true
   },
   "outputs": [],
   "source": [
    "!head -3 data/sample_data.tsv"
   ]
  },
  {
   "cell_type": "code",
   "execution_count": null,
   "metadata": {},
   "outputs": [],
   "source": [
    "# %load -r 1-19 solutions/solution_81.py"
   ]
  },
  {
   "cell_type": "code",
   "execution_count": null,
   "metadata": {},
   "outputs": [],
   "source": [
    "# %load -r 20-26 solutions/solution_81.py"
   ]
  },
  {
   "cell_type": "code",
   "execution_count": null,
   "metadata": {},
   "outputs": [],
   "source": [
    "# %load -r 27-49 solutions/solution_81.py"
   ]
  },
  {
   "cell_type": "code",
   "execution_count": null,
   "metadata": {},
   "outputs": [],
   "source": [
    "# %load -r 50-54 solutions/solution_81.py"
   ]
  },
  {
   "cell_type": "code",
   "execution_count": null,
   "metadata": {},
   "outputs": [],
   "source": [
    "# %load -r 55-58 solutions/solution_81.py"
   ]
  },
  {
   "cell_type": "code",
   "execution_count": null,
   "metadata": {},
   "outputs": [],
   "source": [
    "# %load -r 59-62 solutions/solution_81.py"
   ]
  },
  {
   "cell_type": "code",
   "execution_count": null,
   "metadata": {},
   "outputs": [],
   "source": [
    "# %load -r 63- solutions/solution_81.py"
   ]
  }
 ],
 "metadata": {
  "anaconda-cloud": {},
  "kernelspec": {
   "display_name": "Python 3",
   "language": "python",
   "name": "python3"
  },
  "language_info": {
   "codemirror_mode": {
    "name": "ipython",
    "version": 3
   },
   "file_extension": ".py",
   "mimetype": "text/x-python",
   "name": "python",
   "nbconvert_exporter": "python",
   "pygments_lexer": "ipython3",
   "version": "3.7.4"
  }
 },
 "nbformat": 4,
 "nbformat_minor": 1
}
